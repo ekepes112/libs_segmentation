{
 "cells": [
  {
   "cell_type": "markdown",
   "metadata": {},
   "source": [
    "# Init"
   ]
  },
  {
   "cell_type": "code",
   "execution_count": 1,
   "metadata": {},
   "outputs": [
    {
     "name": "stdout",
     "output_type": "stream",
     "text": [
      "c:\\Users\\kepes\\Projects\\segmentation\n"
     ]
    }
   ],
   "source": [
    "import numpy as np\n",
    "import logging\n",
    "import matplotlib.pyplot as plt\n",
    "import plotly.graph_objects as go\n",
    "%cd ..\n",
    "%load_ext autoreload\n",
    "\n",
    "import plotly.graph_objects as go"
   ]
  },
  {
   "cell_type": "code",
   "execution_count": 6,
   "metadata": {},
   "outputs": [],
   "source": [
    "%autoreload 2\n",
    "from src.MapData import MapData\n",
    "from src.LineFinder import LineFinder\n",
    "\n",
    "from src.plotting_functions import plot_embedding, plot_single_variable_map"
   ]
  },
  {
   "cell_type": "code",
   "execution_count": 7,
   "metadata": {},
   "outputs": [],
   "source": [
    "map_data = MapData()\n",
    "map_data.get_metadata()\n",
    "map_data.load_wavelenths()\n",
    "map_data.load_all_data()\n",
    "map_data.trim_spectra(64)"
   ]
  },
  {
   "cell_type": "code",
   "execution_count": 8,
   "metadata": {},
   "outputs": [],
   "source": [
    "map_data.spectra = map_data.spectra[:10000,:].copy()"
   ]
  },
  {
   "cell_type": "code",
   "execution_count": 9,
   "metadata": {},
   "outputs": [],
   "source": [
    "map_data.get_baseline(min_window_size=50, smooth_window_size=100)\n",
    "map_data.align_baselines_with_spectra()\n",
    "map_data.baseline_correct()"
   ]
  },
  {
   "cell_type": "code",
   "execution_count": 10,
   "metadata": {},
   "outputs": [
    {
     "data": {
      "text/plain": [
       "array([[ 56.71191906,  62.46886931,   6.21068604, ...,  85.15278024,\n",
       "         64.45464704,  71.73934227],\n",
       "       [ 71.5987908 ,  94.01354223,  43.71902921, ...,  86.27957303,\n",
       "         35.9611802 ,  38.97758717],\n",
       "       [ 54.76681572,  67.75774909,  23.39311951, ..., 105.66860988,\n",
       "         85.71989501,  82.40457948],\n",
       "       ...,\n",
       "       [ 35.42857699,  44.47610592,   3.82401987, ...,  47.37822635,\n",
       "         11.00962788,  53.62906692],\n",
       "       [ 28.33433565,  45.05625172,  13.76079162, ...,  55.10060464,\n",
       "          3.10478419,  44.08855979],\n",
       "       [ 29.30591732,  42.53952218,  12.42571282, ...,  32.54867068,\n",
       "         -2.32714765,  38.78206016]])"
      ]
     },
     "execution_count": 10,
     "metadata": {},
     "output_type": "execute_result"
    }
   ],
   "source": [
    "map_data.spectra"
   ]
  },
  {
   "cell_type": "code",
   "execution_count": 15,
   "metadata": {},
   "outputs": [],
   "source": [
    "from random import randint"
   ]
  },
  {
   "cell_type": "code",
   "execution_count": 35,
   "metadata": {},
   "outputs": [
    {
     "data": {
      "text/plain": [
       "[<matplotlib.lines.Line2D at 0x26fc8e9ec80>]"
      ]
     },
     "execution_count": 35,
     "metadata": {},
     "output_type": "execute_result"
    },
    {
     "data": {
      "image/png": "[encoded data removed]",
      "text/plain": [
       "<Figure size 640x480 with 1 Axes>"
      ]
     },
     "metadata": {},
     "output_type": "display_data"
    }
   ],
   "source": [
    "plt.plot(map_data.spectra[randint(0,map_data.spectra.shape[0]),:])"
   ]
  },
  {
   "cell_type": "code",
   "execution_count": 36,
   "metadata": {},
   "outputs": [
    {
     "ename": "ModuleNotFoundError",
     "evalue": "No module named 'skimage'",
     "output_type": "error",
     "traceback": [
      "\u001b[1;31m---------------------------------------------------------------------------\u001b[0m",
      "\u001b[1;31mModuleNotFoundError\u001b[0m                       Traceback (most recent call last)",
      "Cell \u001b[1;32mIn[36], line 1\u001b[0m\n\u001b[1;32m----> 1\u001b[0m \u001b[39mfrom\u001b[39;00m \u001b[39mskimage\u001b[39;00m\u001b[39m.\u001b[39;00m\u001b[39mrestoration\u001b[39;00m \u001b[39mimport\u001b[39;00m denoise_wavelet\n",
      "\u001b[1;31mModuleNotFoundError\u001b[0m: No module named 'skimage'"
     ]
    }
   ],
   "source": [
    "from skimage.restoration import denoise_wavelet"
   ]
  }
 ],
 "metadata": {
  "kernelspec": {
   "display_name": "segment",
   "language": "python",
   "name": "segment"
  },
  "language_info": {
   "codemirror_mode": {
    "name": "ipython",
    "version": 3
   },
   "file_extension": ".py",
   "mimetype": "text/x-python",
   "name": "python",
   "nbconvert_exporter": "python",
   "pygments_lexer": "ipython3",
   "version": "3.10.9"
  },
  "orig_nbformat": 4
 },
 "nbformat": 4,
 "nbformat_minor": 2
}
