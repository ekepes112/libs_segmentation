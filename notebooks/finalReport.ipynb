{
 "cells": [
  {
   "attachments": {},
   "cell_type": "markdown",
   "metadata": {},
   "source": [
    "# Init"
   ]
  },
  {
   "cell_type": "code",
   "execution_count": null,
   "metadata": {},
   "outputs": [],
   "source": [
    "import numpy as np\n",
    "import pandas as pd\n",
    "import logging\n",
    "import matplotlib.pyplot as plt\n",
    "import plotly.graph_objects as go\n",
    "from pathlib import Path\n",
    "from random import randint\n",
    "import json\n",
    "%cd ..\n",
    "%load_ext autoreload"
   ]
  },
  {
   "cell_type": "code",
   "execution_count": null,
   "metadata": {},
   "outputs": [],
   "source": [
    "%autoreload 2\n",
    "from src.MapData import MapData, min_max_dist, triangle_corr, get_triangular_kernel\n",
    "from src.LineFinder import LineFinder\n",
    "\n",
    "from src.plotting_functions import plot_embedding, plot_single_variable_map"
   ]
  },
  {
   "attachments": {},
   "cell_type": "markdown",
   "metadata": {},
   "source": [
    "# Data"
   ]
  },
  {
   "cell_type": "code",
   "execution_count": null,
   "metadata": {},
   "outputs": [],
   "source": [
    "map_data = MapData(            \n",
    "    './data/2022_03_22_P56B_307x532.libsdata',\n",
    "    overwrite=False\n",
    ")\n",
    "map_data.get_metadata()\n",
    "map_data.load_wavelenths()\n",
    "map_data.load_all_data()"
   ]
  },
  {
   "attachments": {},
   "cell_type": "markdown",
   "metadata": {},
   "source": [
    "## Preprocessing"
   ]
  },
  {
   "cell_type": "code",
   "execution_count": null,
   "metadata": {},
   "outputs": [],
   "source": [
    "CM = 2.54"
   ]
  },
  {
   "cell_type": "code",
   "execution_count": null,
   "metadata": {},
   "outputs": [],
   "source": [
    "fig, ax = plt.subplots(1,figsize=(16/CM,16/CM))\n",
    "ax.plot(\n",
    "    map_data.wvl,\n",
    "    map_data.spectra[randint(0,len(map_data.spectra)),:]\n",
    ")"
   ]
  },
  {
   "cell_type": "code",
   "execution_count": null,
   "metadata": {},
   "outputs": [],
   "source": []
  },
  {
   "cell_type": "code",
   "execution_count": null,
   "metadata": {},
   "outputs": [],
   "source": [
    "map_data.trim_spectra(64)\n",
    "map_data.estimate_systemic_noise()\n",
    "\n",
    "map_data.get_baseline(\n",
    "    min_window_size=50,\n",
    "    smooth_window_size=100\n",
    ")\n",
    "map_data.baseline_correct()\n",
    "\n",
    "map_data.upsample_spectra()\n",
    "if map_data.systemic_noise_spectrum is not None:\n",
    "    map_data.denoise_spectra(\n",
    "        file_name_supplement='demo',\n",
    "        threshold=np.std(map_data.systemic_noise_spectrum)\n",
    "    )\n",
    "\n",
    "maxima_spectrum = map_data.spectra.max(axis=0)"
   ]
  }
 ],
 "metadata": {
  "language_info": {
   "name": "python"
  },
  "orig_nbformat": 4
 },
 "nbformat": 4,
 "nbformat_minor": 2
}
