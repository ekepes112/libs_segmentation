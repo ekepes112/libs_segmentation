{
 "cells": [
  {
   "cell_type": "code",
   "execution_count": 1,
   "metadata": {},
   "outputs": [],
   "source": [
    "import numpy as np\n",
    "\n",
    "from pathlib import Path\n",
    "import re\n",
    "from random import randint\n",
    "import logging\n",
    "\n",
    "import tkinter as tk\n",
    "from tkinter import filedialog\n",
    "\n",
    "import json\n",
    "import struct\n",
    "\n",
    "import matplotlib.pyplot as plt"
   ]
  },
  {
   "cell_type": "code",
   "execution_count": 2,
   "metadata": {},
   "outputs": [],
   "source": [
    "debug_log = logging.Logger('default_logger',level=logging.DEBUG)"
   ]
  },
  {
   "cell_type": "code",
   "execution_count": 3,
   "metadata": {},
   "outputs": [
    {
     "data": {
      "text/plain": [
       "''"
      ]
     },
     "execution_count": 3,
     "metadata": {},
     "output_type": "execute_result"
    }
   ],
   "source": [
    "root = tk.Tk()\n",
    "root.withdraw()"
   ]
  },
  {
   "cell_type": "code",
   "execution_count": 4,
   "metadata": {},
   "outputs": [],
   "source": [
    "def get_map_dimensions(file_path:Path):\n",
    "  \"\"\"Gets the measured map's dimensions (in pixels) assuming that the filename contains this information\n",
    "\n",
    "  Args:\n",
    "      file_path (Path): pathlib.Path object of the considered map's data\n",
    "  \"\"\"\n",
    "  map_dimensions = re.findall(\n",
    "      '[0-9]{3}x[0-9]{3}',\n",
    "      file_path.name\n",
    "  )[0].split('x')\n",
    "\n",
    "  return([int(x) for x in map_dimensions])\n",
    "\n",
    "def get_metadata(file_path:Path):\n",
    "  \"\"\"Load metadata from the metadata file corresponding to the selected data file\n",
    "\n",
    "  Args:\n",
    "      file_path (Path): pathlib.Path object of the considered map's data\n",
    "  \"\"\"\n",
    "  metadata_path = file_path.with_suffix('.libsmetadata')\n",
    "  if metadata_path.is_file():\n",
    "    with open(\n",
    "      file_path.with_suffix('.libsmetadata'),'r'\n",
    "    ) as file:\n",
    "\n",
    "      return(json.load(file))\n",
    "  else:\n",
    "    raise ImportError('Metadata file is missing')"
   ]
  },
  {
   "cell_type": "code",
   "execution_count": 5,
   "metadata": {},
   "outputs": [],
   "source": [
    "#%%writefile ../src/MapData.py\n",
    "\n",
    "class MapData:\n",
    "  \"\"\"Class for handling hyperspectral images stored in the .libsdata file format\n",
    "  \"\"\"\n",
    "  def __init__(self):\n",
    "    self.file_path = Path(\n",
    "      filedialog.askopenfilename(filetypes=[('LIBS data','*.libsdata')])\n",
    "    )\n",
    "    self.BYTE_SIZE = 4\n",
    "    self.data_type = None\n",
    "    self.metadata = None\n",
    "\n",
    "\n",
    "  def get_map_dimensions(self):\n",
    "    \"\"\"Gets the measured map's dimensions (in pixels) assuming that the filename contains this information\n",
    "    \"\"\"\n",
    "    map_dimensions = re.findall(\n",
    "        '[0-9]{3}x[0-9]{3}',\n",
    "        self.file_path.name\n",
    "    )[0].split('x')\n",
    "\n",
    "    self.map_dimensions = [int(x) for x in map_dimensions]\n",
    "\n",
    "\n",
    "  def get_metadata(self):\n",
    "    \"\"\"Load metadata from the metadata file corresponding to the selected data file\n",
    "    \"\"\"\n",
    "    metadata_path = self.file_path.with_suffix('.libsmetadata')\n",
    "    if metadata_path.is_file():\n",
    "      with open(\n",
    "        self.file_path.with_suffix('.libsmetadata'),'r'\n",
    "      ) as file:\n",
    "\n",
    "        self.metadata = json.load(file)\n",
    "    else:\n",
    "      raise ImportError('Metadata file is missing')\n",
    "    \n",
    "\n",
    "  def create_data_type(self):\n",
    "    \"\"\"Defines the data_type used for loading in the binary data (takes information from the metadata)\n",
    "    \"\"\"\n",
    "    if self.metadata is None: self.get_metadata()\n",
    "    self.data_type = np.dtype(\n",
    "      [(\n",
    "        'data', \n",
    "        np.float32, \n",
    "        self.metadata.get('wavelengths')\n",
    "      )]\n",
    "    )\n",
    "\n",
    "\n",
    "  def load_wavelenths(self):\n",
    "    \"\"\"Load the wavelength vector from the binary data file\n",
    "    \"\"\"\n",
    "    if self.data_type is None: self.create_data_type()\n",
    "    self.wvl = np.fromfile(\n",
    "      self.file_path,\n",
    "      self.data_type,\n",
    "      count=1\n",
    "    )['data'][0]\n",
    "\n",
    "\n",
    "  def load_batch_of_spectra(self, batch_size:int, start_ndx:int):\n",
    "    \"\"\"Load a batch of consecutive spectra from the binary data file\n",
    "\n",
    "    Args:\n",
    "        batch_size (int): number of spectra to load\n",
    "        start_ndx (int): index of the first spectrum in the batch (in the whole data file)\n",
    "    \"\"\"\n",
    "    if self.data_type is None: self.create_data_type()\n",
    "    if batch_size + start_ndx + 1 < self.metadata.get('spectra'):\n",
    "      self.batch_spectra = np.fromfile(\n",
    "        self.file_path,\n",
    "        self.data_type,\n",
    "        count=batch_size,\n",
    "        offset=(1+start_ndx) * self.metadata.get('wavelengths') * self.BYTE_SIZE #1 for skipping wavelengths\n",
    "      )['data']\n",
    "    else:\n",
    "      print('The chosen batchsize and offset are out of bounds')\n",
    "\n",
    "\n",
    "  def load_random_spectrum_from_batch(self, batch_size:int):\n",
    "    \"\"\"Loads a single spectrum from every batch defined by the batch_size parameter\n",
    "\n",
    "    Args:\n",
    "        batch_size (int): Number of spectra from which 1 is randomly sampled\n",
    "    \"\"\"\n",
    "    batch_count = self.metadata.get('spectra') // batch_size\n",
    "    debug_log.debug(batch_count)\n",
    "\n",
    "    data = []\n",
    "    with open(self.file_path,'rb') as source:      \n",
    "      source.seek(\n",
    "        self.metadata.get('wavelengths') * self.BYTE_SIZE,\n",
    "        0\n",
    "      )\n",
    "\n",
    "      for _ in range(batch_count):\n",
    "        ndx = randint(0,batch_size)\n",
    "        debug_log.debug(f'{ndx}')\n",
    "        \n",
    "        source.seek(\n",
    "          self.metadata.get('wavelengths') * self.BYTE_SIZE * (ndx - 1),\n",
    "          1\n",
    "        )\n",
    "        \n",
    "        for _ in range(self.metadata.get('wavelengths')):\n",
    "          data.extend(\n",
    "            struct.unpack(\n",
    "              'f',\n",
    "              source.read(self.BYTE_SIZE)\n",
    "            )\n",
    "          )\n",
    "        \n",
    "        if ndx != batch_size:\n",
    "          source.seek(\n",
    "            self.metadata.get('wavelengths') * self.BYTE_SIZE * (batch_size - ndx - 1),\n",
    "            1\n",
    "          )\n",
    "          \n",
    "    self.random_spectra_from_batches = np.reshape(\n",
    "        data,\n",
    "        (-1,self.metadata.get('wavelengths'))\n",
    "    )\n",
    "\n",
    "  \n",
    "  def load_random_spectrum(self):\n",
    "    \"\"\"Load a random spectrum from the whole data file\n",
    "    \"\"\"\n",
    "    if self.data_type is None: self.create_data_type()\n",
    "    chosen_ndx = randint(1,self.metadata.get('spectra'))\n",
    "    self.random_spectrum = np.fromfile(\n",
    "      self.file_path,\n",
    "      self.data_type,\n",
    "      count=1,\n",
    "      offset=chosen_ndx * self.metadata.get('wavelengths') * self.BYTE_SIZE\n",
    "    )['data'][0]\n",
    "\n",
    "\n",
    "  def plot_random_spectrum(self):\n",
    "    \"\"\"load and plot a random spectrum from the file\n",
    "    \"\"\"\n",
    "    fig,ax = plt.subplots()\n",
    "    if not hasattr(self,'wvl'):\n",
    "      self.load_wavelenths()\n",
    "\n",
    "    self.load_random_spectrum()\n",
    "\n",
    "    ax.plot(\n",
    "      self.wvl,\n",
    "      self.random_spectrum\n",
    "    )\n",
    "    fig.show()\n",
    "\n",
    "  \n",
    "  def load_all_data(self):\n",
    "    \"\"\"loads all spectra from the file\n",
    "    \"\"\"\n",
    "    if self.data_type is None: self.create_data_type()\n",
    "    self.spectra = np.fromfile(\n",
    "      self.file_path,\n",
    "      self.data_type,      \n",
    "      offset=self.metadata.get('wavelengths') * self.BYTE_SIZE\n",
    "    )['data']"
   ]
  },
  {
   "cell_type": "code",
   "execution_count": 6,
   "metadata": {},
   "outputs": [],
   "source": [
    "map_data = MapData()\n",
    "map_data.get_metadata()\n",
    "map_data.get_map_dimensions()\n",
    "map_data.load_wavelenths()"
   ]
  },
  {
   "cell_type": "code",
   "execution_count": 10,
   "metadata": {},
   "outputs": [
    {
     "name": "stderr",
     "output_type": "stream",
     "text": [
      "C:\\Users\\kepes\\AppData\\Local\\Temp\\ipykernel_9376\\3304060347.py:154: UserWarning: Matplotlib is currently using module://matplotlib_inline.backend_inline, which is a non-GUI backend, so cannot show the figure.\n",
      "  fig.show()\n"
     ]
    },
    {
     "data": {
      "image/png": "[encoded data removed]",
      "text/plain": [
       "<Figure size 640x480 with 1 Axes>"
      ]
     },
     "metadata": {},
     "output_type": "display_data"
    }
   ],
   "source": [
    "map_data.plot_random_spectrum()"
   ]
  },
  {
   "cell_type": "code",
   "execution_count": 4,
   "metadata": {},
   "outputs": [],
   "source": [
    "file_path = Path(\n",
    "  filedialog.askopenfilename(filetypes=[('LIBS data','*.libsdata')])\n",
    ")"
   ]
  },
  {
   "cell_type": "code",
   "execution_count": 6,
   "metadata": {},
   "outputs": [],
   "source": [
    "with open(\n",
    "  file_path.with_suffix('.libsmetadata'),'r'\n",
    ") as file:\n",
    "  metadata = json.load(file)"
   ]
  },
  {
   "cell_type": "code",
   "execution_count": 19,
   "metadata": {},
   "outputs": [],
   "source": [
    "data_type = np.dtype([('data', np.float32, metadata.get('wavelengths'))])"
   ]
  },
  {
   "cell_type": "code",
   "execution_count": 29,
   "metadata": {},
   "outputs": [
    {
     "name": "stdout",
     "output_type": "stream",
     "text": [
      "5.79 s ± 126 ms per loop (mean ± std. dev. of 3 runs, 1 loop each)\n"
     ]
    }
   ],
   "source": [
    "%%timeit -r 3\n",
    "data_type = np.dtype([('data', np.float32, metadata.get('wavelengths'))])\n",
    "data = np.fromfile(file_path,data_type)"
   ]
  },
  {
   "cell_type": "code",
   "execution_count": 44,
   "metadata": {},
   "outputs": [],
   "source": [
    "# %%timeit -r 3\n",
    "data = np.memmap(file_path, data_type)\n",
    "spectra = np.copy(data['data'][1:,:])"
   ]
  },
  {
   "cell_type": "code",
   "execution_count": 45,
   "metadata": {},
   "outputs": [
    {
     "data": {
      "text/plain": [
       "array([[394.4079 , 385.74124, 381.4079 , ..., 358.07455, 325.74124,\n",
       "        303.4079 ],\n",
       "       [399.0263 , 396.693  , 391.693  , ..., 340.0263 , 315.0263 ,\n",
       "        305.0263 ],\n",
       "       [429.5658 , 420.5658 , 397.5658 , ..., 360.8991 , 332.5658 ,\n",
       "        298.5658 ],\n",
       "       ...,\n",
       "       [384.80264, 390.4693 , 385.80264, ..., 360.80264, 338.4693 ,\n",
       "        310.80264],\n",
       "       [405.80264, 394.80264, 386.13596, ..., 337.80264, 314.80264,\n",
       "        291.80264],\n",
       "       [438.3684 , 405.3684 , 386.0351 , ..., 348.0351 , 333.3684 ,\n",
       "        316.3684 ]], dtype=float32)"
      ]
     },
     "execution_count": 45,
     "metadata": {},
     "output_type": "execute_result"
    }
   ],
   "source": [
    "spectra"
   ]
  }
 ],
 "metadata": {
  "kernelspec": {
   "display_name": "segment",
   "language": "python",
   "name": "segment"
  },
  "language_info": {
   "codemirror_mode": {
    "name": "ipython",
    "version": 3
   },
   "file_extension": ".py",
   "mimetype": "text/x-python",
   "name": "python",
   "nbconvert_exporter": "python",
   "pygments_lexer": "ipython3",
   "version": "3.10.9"
  },
  "orig_nbformat": 4
 },
 "nbformat": 4,
 "nbformat_minor": 2
}
