{
 "cells": [
  {
   "cell_type": "code",
   "execution_count": 5,
   "metadata": {},
   "outputs": [],
   "source": [
    "from pathlib import Path\n",
    "import tkinter as tk\n",
    "from tkinter import filedialog"
   ]
  },
  {
   "cell_type": "code",
   "execution_count": 6,
   "metadata": {},
   "outputs": [],
   "source": [
    "root = tk.Tk()\n",
    "root.withdraw()\n",
    "\n",
    "file_path = Path(filedialog.askopenfilename())"
   ]
  },
  {
   "cell_type": "code",
   "execution_count": null,
   "metadata": {},
   "outputs": [],
   "source": [
    "if file_path.is_file():    \n",
    "    print(f\"Importing data from {file_path}\")\n",
    "    with open(file_path, \"r\") as f:        \n",
    "        file_contents = f.read()\n",
    "        print(f\"The contents of the file are:\\n{file_contents}\")\n",
    "else:\n",
    "    # If the file does not exist, inform the user and prompt them to try again with a different file path\n",
    "    print(f\"File not found at {file_path}. Please try again with a different file path.\")"
   ]
  },
  {
   "cell_type": "code",
   "execution_count": null,
   "metadata": {},
   "outputs": [],
   "source": []
  },
  {
   "cell_type": "code",
   "execution_count": null,
   "metadata": {},
   "outputs": [],
   "source": [
    "file_path = input(\"Please enter the path of your file: \")\n",
    "\n",
    "if os.path.isfile(file_path):\n",
    "    # If the file exists, we can proceed with reading its contents or performing other operations\n",
    "    print(f\"File found at {file_path}\")\n",
    "    with open(file_path, \"r\") as f:\n",
    "        # Perform operations on the file here, e.g. reading its contents\n",
    "        file_contents = f.read()\n",
    "        print(f\"The contents of the file are:\\n{file_contents}\")\n",
    "else:\n",
    "    # If the file does not exist, inform the user and prompt them to try again with a different file path\n",
    "    print(f\"File not found at {file_path}. Please try again with a different file path.\")"
   ]
  }
 ],
 "metadata": {
  "kernelspec": {
   "display_name": "segment",
   "language": "python",
   "name": "segment"
  },
  "language_info": {
   "codemirror_mode": {
    "name": "ipython",
    "version": 3
   },
   "file_extension": ".py",
   "mimetype": "text/x-python",
   "name": "python",
   "nbconvert_exporter": "python",
   "pygments_lexer": "ipython3",
   "version": "3.10.9"
  },
  "orig_nbformat": 4
 },
 "nbformat": 4,
 "nbformat_minor": 2
}
