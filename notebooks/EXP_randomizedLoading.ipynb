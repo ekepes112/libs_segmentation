{
 "cells": [
  {
   "cell_type": "code",
   "execution_count": 14,
   "metadata": {},
   "outputs": [],
   "source": [
    "from pathlib import Path\n",
    "\n",
    "import tkinter as tk\n",
    "from tkinter import filedialog\n",
    "import json\n",
    "\n",
    "import re"
   ]
  },
  {
   "cell_type": "code",
   "execution_count": 6,
   "metadata": {},
   "outputs": [],
   "source": [
    "root = tk.Tk()\n",
    "root.withdraw()\n",
    "\n",
    "file_path = Path(filedialog.askopenfilename())"
   ]
  },
  {
   "cell_type": "code",
   "execution_count": 25,
   "metadata": {},
   "outputs": [],
   "source": [
    "def get_map_dimensions(file_path:Path):\n",
    "  \"\"\"Gets the measured map's dimensions (in pixels) assuming that the filename contains this information\n",
    "\n",
    "  Args:\n",
    "      file_path (Path): pathlib.Path object of the considered map's data\n",
    "  \"\"\"\n",
    "  map_dimensions = re.findall(\n",
    "      '[0-9]{3}x[0-9]{3}',\n",
    "      file_path.name\n",
    "  )[0].split('x')\n",
    "\n",
    "  return([int(x) for x in map_dimensions])\n",
    "\n",
    "def get_metadata(file_path:Path):\n",
    "  \"\"\"Load metadata from the metadata file corresponding to the selected data file\n",
    "\n",
    "  Args:\n",
    "      file_path (Path): pathlib.Path object of the considered map's data\n",
    "  \"\"\"\n",
    "  metadata_path = file_path.with_suffix('.libsmetadata')\n",
    "  if metadata_path.is_file():\n",
    "    with open(\n",
    "      file_path.with_suffix('.libsmetadata'),'r'\n",
    "    ) as file:\n",
    "\n",
    "      return(json.load(file))\n",
    "  else:\n",
    "    raise ImportError('Metadata file is missing')"
   ]
  },
  {
   "cell_type": "code",
   "execution_count": 26,
   "metadata": {},
   "outputs": [
    {
     "ename": "ImportError",
     "evalue": "metadata file is missing",
     "output_type": "error",
     "traceback": [
      "\u001b[1;31m---------------------------------------------------------------------------\u001b[0m",
      "\u001b[1;31mImportError\u001b[0m                               Traceback (most recent call last)",
      "Cell \u001b[1;32mIn[26], line 1\u001b[0m\n\u001b[1;32m----> 1\u001b[0m get_metadata(file_path)\n",
      "Cell \u001b[1;32mIn[25], line 28\u001b[0m, in \u001b[0;36mget_metadata\u001b[1;34m(file_path)\u001b[0m\n\u001b[0;32m     26\u001b[0m     \u001b[39mreturn\u001b[39;00m(json\u001b[39m.\u001b[39mload(file))\n\u001b[0;32m     27\u001b[0m \u001b[39melse\u001b[39;00m:\n\u001b[1;32m---> 28\u001b[0m   \u001b[39mraise\u001b[39;00m \u001b[39mImportError\u001b[39;00m(\u001b[39m'\u001b[39m\u001b[39mmetadata file is missing\u001b[39m\u001b[39m'\u001b[39m)\n",
      "\u001b[1;31mImportError\u001b[0m: metadata file is missing"
     ]
    }
   ],
   "source": [
    "get_metadata(file_path)"
   ]
  },
  {
   "cell_type": "code",
   "execution_count": null,
   "metadata": {},
   "outputs": [],
   "source": [
    "if file_path.is_file():    \n",
    "    print(f\"Importing data from {file_path}\")\n",
    "    with open(file_path, \"r\") as f:        \n",
    "        file_contents = f.read()\n",
    "        print(f\"The contents of the file are:\\n{file_contents}\")\n",
    "else:\n",
    "    # If the file does not exist, inform the user and prompt them to try again with a different file path\n",
    "    print(f\"File not found at {file_path}. Please try again with a different file path.\")"
   ]
  },
  {
   "cell_type": "code",
   "execution_count": null,
   "metadata": {},
   "outputs": [],
   "source": []
  },
  {
   "cell_type": "code",
   "execution_count": null,
   "metadata": {},
   "outputs": [],
   "source": [
    "file_path = input(\"Please enter the path of your file: \")\n",
    "\n",
    "if os.path.isfile(file_path):\n",
    "    # If the file exists, we can proceed with reading its contents or performing other operations\n",
    "    print(f\"File found at {file_path}\")\n",
    "    with open(file_path, \"r\") as f:\n",
    "        # Perform operations on the file here, e.g. reading its contents\n",
    "        file_contents = f.read()\n",
    "        print(f\"The contents of the file are:\\n{file_contents}\")\n",
    "else:\n",
    "    # If the file does not exist, inform the user and prompt them to try again with a different file path\n",
    "    print(f\"File not found at {file_path}. Please try again with a different file path.\")"
   ]
  }
 ],
 "metadata": {
  "kernelspec": {
   "display_name": "segment",
   "language": "python",
   "name": "segment"
  },
  "language_info": {
   "codemirror_mode": {
    "name": "ipython",
    "version": 3
   },
   "file_extension": ".py",
   "mimetype": "text/x-python",
   "name": "python",
   "nbconvert_exporter": "python",
   "pygments_lexer": "ipython3",
   "version": "3.10.9"
  },
  "orig_nbformat": 4
 },
 "nbformat": 4,
 "nbformat_minor": 2
}
