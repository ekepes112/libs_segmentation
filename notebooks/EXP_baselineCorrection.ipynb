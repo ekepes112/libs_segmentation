{
 "cells": [
  {
   "cell_type": "markdown",
   "metadata": {},
   "source": [
    "# Init"
   ]
  },
  {
   "cell_type": "code",
   "execution_count": null,
   "metadata": {},
   "outputs": [],
   "source": [
    "import numpy as np\n",
    "import logging\n",
    "import matplotlib.pyplot as plt\n",
    "import plotly.graph_objects as go\n",
    "%cd ..\n",
    "%load_ext autoreload\n",
    "\n",
    "import plotly.graph_objects as go"
   ]
  },
  {
   "cell_type": "code",
   "execution_count": null,
   "metadata": {},
   "outputs": [],
   "source": [
    "%autoreload 2\n",
    "from src.MapData import MapData\n",
    "from src.LineFinder import LineFinder\n",
    "\n",
    "from src.plotting_functions import plot_embedding, plot_single_variable_map"
   ]
  },
  {
   "cell_type": "code",
   "execution_count": null,
   "metadata": {},
   "outputs": [],
   "source": [
    "map_data = MapData()\n",
    "map_data.get_metadata()\n",
    "map_data.load_wavelenths()\n",
    "map_data.load_all_data()\n",
    "map_data.trim_spectra(64)"
   ]
  },
  {
   "cell_type": "code",
   "execution_count": null,
   "metadata": {},
   "outputs": [],
   "source": [
    "map_data.spectra = map_data.spectra[:10000,:].copy()"
   ]
  },
  {
   "cell_type": "code",
   "execution_count": null,
   "metadata": {},
   "outputs": [],
   "source": [
    "import numpy as np\n",
    "from numpy.lib.stride_tricks import sliding_window_view\n",
    "\n",
    "def rolling_min(arr, window_width):\n",
    "    window = sliding_window_view(\n",
    "        arr, \n",
    "        (window_width,),\n",
    "        axis=len(arr.shape) - 1\n",
    "    )\n",
    "    return np.amin(window, axis=len(arr.shape))"
   ]
  },
  {
   "cell_type": "code",
   "execution_count": null,
   "metadata": {},
   "outputs": [],
   "source": [
    "# %%timeit -r 3\n",
    "min_window_size = 50\n",
    "smooth_window_size = 100\n",
    "\n",
    "local_minima = rolling_min(\n",
    "    arr=np.hstack(\n",
    "        [map_data.spectra[:,0][:,np.newaxis]] * ((min_window_size + smooth_window_size) // 2)\\\n",
    "            + [map_data.spectra]\n",
    "            + [map_data.spectra[:,-1][:,np.newaxis]] * ((min_window_size + smooth_window_size) // 2)\n",
    "    ),\n",
    "    window_width=min_window_size\n",
    ")"
   ]
  },
  {
   "cell_type": "code",
   "execution_count": null,
   "metadata": {},
   "outputs": [],
   "source": [
    "# %%timeit -r 3\n",
    "min_window_size = 50\n",
    "smooth_window_size = 100\n",
    "\n",
    "kernel = np.arange(-smooth_window_size//2,smooth_window_size//2 + 1,1)\n",
    "sigma = smooth_window_size // 4\n",
    "kernel = np.exp(-(kernel ** 2) / (2 * sigma**2))\n",
    "kernel /= kernel.sum()\n",
    "\n",
    "# local_minima = np.apply_along_axis(\n",
    "#     arr=np.hstack(\n",
    "#         [map_data.spectra[:,0][:,np.newaxis]] * ((min_window_size + smooth_window_size) // 2)\\\n",
    "#             + [map_data.spectra]\n",
    "#             + [map_data.spectra[:,-1][:,np.newaxis]] * ((min_window_size + smooth_window_size) // 2)\n",
    "#     ),\n",
    "#     func1d=rolling_min,\n",
    "#     axis=1,\n",
    "#     window_width=min_window_size\n",
    "# )\n",
    "\n",
    "smoothed_minima = np.apply_along_axis(\n",
    "    arr=local_minima,\n",
    "    func1d=np.convolve,\n",
    "    axis=1,\n",
    "    v=kernel,\n",
    "    mode='valid'\n",
    ")"
   ]
  },
  {
   "cell_type": "code",
   "execution_count": null,
   "metadata": {},
   "outputs": [],
   "source": [
    "smoothed_minima = np.convolve(\n",
    "    a=local_minima,\n",
    "    # axis=1,\n",
    "    v=kernel,\n",
    "    mode='valid'\n",
    ")"
   ]
  },
  {
   "cell_type": "code",
   "execution_count": null,
   "metadata": {},
   "outputs": [],
   "source": [
    "local_minima.shape"
   ]
  },
  {
   "cell_type": "code",
   "execution_count": null,
   "metadata": {},
   "outputs": [],
   "source": [
    "fig = go.Figure()\n",
    "fig.add_trace(\n",
    "    go.Scatter(\n",
    "        x=map_data.wvl,\n",
    "        y=map_data.spectra[0,:]\n",
    "    )\n",
    ")\n",
    "fig.add_trace(\n",
    "    go.Scatter(\n",
    "        x=map_data.wvl,\n",
    "        y=np.squeeze(local_minima[0,min_window_size:]),\n",
    "        name='minima'\n",
    "    )\n",
    ")\n",
    "fig.add_trace(\n",
    "    go.Scatter(\n",
    "        x=map_data.wvl,\n",
    "        y=smoothed_minima[0,:],\n",
    "        name='baseline'\n",
    "    )\n",
    ")\n"
   ]
  },
  {
   "cell_type": "code",
   "execution_count": null,
   "metadata": {},
   "outputs": [],
   "source": [
    "smoothed_minima = smoothed_minima[\n",
    "    :,\n",
    "    :-(smoothed_minima.shape[1] - map_data.spectra.shape[1])\n",
    "]"
   ]
  },
  {
   "cell_type": "code",
   "execution_count": null,
   "metadata": {},
   "outputs": [],
   "source": [
    "print(map_data.spectra.shape)\n",
    "print(smoothed_minima.shape)"
   ]
  },
  {
   "cell_type": "code",
   "execution_count": null,
   "metadata": {},
   "outputs": [],
   "source": [
    "map_data.spectra = np.subtract(\n",
    "    map_data.spectra,\n",
    "    smoothed_minima\n",
    ")"
   ]
  }
 ],
 "metadata": {
  "kernelspec": {
   "display_name": "segment",
   "language": "python",
   "name": "segment"
  },
  "language_info": {
   "codemirror_mode": {
    "name": "ipython",
    "version": 3
   },
   "file_extension": ".py",
   "mimetype": "text/x-python",
   "name": "python",
   "nbconvert_exporter": "python",
   "pygments_lexer": "ipython3",
   "version": "3.10.9"
  }
 },
 "nbformat": 4,
 "nbformat_minor": 2
}
