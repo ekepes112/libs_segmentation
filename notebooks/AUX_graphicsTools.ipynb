{
 "cells": [
  {
   "cell_type": "code",
   "execution_count": null,
   "metadata": {},
   "outputs": [],
   "source": [
    "cm = 1/2.54\n",
    "AXIS_LABEL_TEXT_SIZE = 8\n",
    "GRID_ALPHA = .1\n",
    "\n",
    "plt.rcParams[\"figure.figsize\"] = (16 * cm, 12 * cm) if SAVE_FIG else (16,12)\n",
    "\n",
    "plt.rcParams['axes.titlesize'] = 8\n",
    "plt.rcParams['axes.titleweight'] = 1\n",
    "plt.rcParams['axes.titlecolor'] = 'black'\n",
    "plt.rcParams['grid.alpha'] = .1\n",
    "plt.rcParams['ytick.labelsize'] = 7\n",
    "plt.rcParams['xtick.labelsize'] = 7\n",
    "plt.rcParams['axes.grid'] = True\n",
    "plt.rcParams['axes.titlelocation'] = 'left'\n",
    "plt.rcParams['font.size'] = 8\n",
    "plt.rcParams['legend.fontsize'] = 7\n",
    "plt.rcParams['lines.linewidth'] = .35\n",
    "plt.rcParams['savefig.transparent'] = True\n",
    "plt.rcParams['savefig.pad_inches'] = 0\n",
    "plt.rcParams['savefig.bbox'] = 'tight'\n",
    "plt.rcParams['savefig.format'] = 'tiff'\n",
    "plt.rcParams['savefig.dpi'] = 600\n",
    "plt.rcParams['legend.markerscale'] = 3\n",
    "plt.rcParams['lines.markersize'] = .4"
   ]
  }
 ],
 "metadata": {
  "language_info": {
   "name": "python"
  }
 },
 "nbformat": 4,
 "nbformat_minor": 2
}
