{
 "cells": [
  {
   "cell_type": "code",
   "execution_count": 1,
   "metadata": {},
   "outputs": [],
   "source": [
    "import numpy as np\n",
    "from pathlib import Path"
   ]
  },
  {
   "cell_type": "code",
   "execution_count": 9,
   "metadata": {},
   "outputs": [
    {
     "data": {
      "text/plain": [
       "'d:\\\\Projects\\\\segmentation\\\\notebooks'"
      ]
     },
     "execution_count": 9,
     "metadata": {},
     "output_type": "execute_result"
    }
   ],
   "source": [
    "%pwd"
   ]
  },
  {
   "cell_type": "code",
   "execution_count": 12,
   "metadata": {},
   "outputs": [
    {
     "name": "stdout",
     "output_type": "stream",
     "text": [
      "..\\data\\Rakoviny\\P10B\\2022_07_01_P10B_454x717_chybi6_preprocessed.npy\n",
      "..\\data\\Rakoviny\\P11B\\471x180-P11B-Avantes_preprocessed.npy\n",
      "..\\data\\Rakoviny\\P11B\\8_3_2022_II.pokus\\8_3_2022_205x481_P11B_Avantes_preprocessed.npy\n",
      "..\\data\\Rakoviny\\P14\\841x332-P14-Avantes_preprocessed.npy\n",
      "..\\data\\Rakoviny\\P18\\2022_06_08_P18_628x444-oriznout_vrch_znova_preprocessed.npy\n",
      "..\\data\\Rakoviny\\P1B\\2022_06_22_610x658_P1B_preprocessed.npy\n",
      "..\\data\\Rakoviny\\P20\\2022_06_08_P20_503x858-oriznout_vrch_preprocessed.npy\n",
      "..\\data\\Rakoviny\\P21\\2022_06_21_P21_571x371_preprocessed.npy\n",
      "..\\data\\Rakoviny\\P22\\576x459-P22-Avantes_preprocessed.npy\n",
      "..\\data\\Rakoviny\\P24B\\2022_06_28_P24B_337x503_preprocessed.npy\n",
      "..\\data\\Rakoviny\\P25B\\892x520-P25B-avantes_preprocessed.npy\n",
      "..\\data\\Rakoviny\\P26B_I\\2022_06_15_P26BI_614x490_preprocessed.npy\n",
      "..\\data\\Rakoviny\\P28B\\2022_06_30_P28B_466x636-divnyej_pocet_celekm_296882_preprocessed.npy\n",
      "..\\data\\Rakoviny\\P29B\\2022_06_15_P29B_458x685_preprocessed.npy\n",
      "..\\data\\Rakoviny\\P2B\\2022_07_01_P2B_469x343_preprocessed.npy\n",
      "..\\data\\Rakoviny\\P34B\\469x835_P34B_Avantes_preprocessed.npy\n",
      "..\\data\\Rakoviny\\P36B\\2022_03_16_P36B_457x599_preprocessed.npy\n",
      "..\\data\\Rakoviny\\P36B\\2022_03_22_P36B_15mikro_754x286_preprocessed.npy\n",
      "..\\data\\Rakoviny\\P36B\\403x540-P36B-Avantes_preprocessed.npy\n",
      "..\\data\\Rakoviny\\P37B\\252x634-P37B_Avantes_preprocessed.npy\n",
      "..\\data\\Rakoviny\\P39B\\2022_06_07_P39B_616x519_preprocessed.npy\n",
      "..\\data\\Rakoviny\\P3B\\2022_07_01_P3B_769x267_zase_blbe_min_preprocessed.npy\n",
      "..\\data\\Rakoviny\\P41B\\2022_06_15_P41B_601x368_preprocessed.npy\n",
      "..\\data\\Rakoviny\\P42B\\2022_03_21_P42B_513x632_preprocessed.npy\n",
      "..\\data\\Rakoviny\\P43B_I\\2022_06_07_ledvina43_439x572_preprocessed.npy\n",
      "..\\data\\Rakoviny\\P43B_II\\2022_06_28_P43BII_571x433_preprocessed.npy\n",
      "..\\data\\Rakoviny\\P44B\\P44B_815x373_preprocessed.npy\n",
      "..\\data\\Rakoviny\\P46B_II\\2022_03_16_P46B_II_preprocessed.npy\n",
      "..\\data\\Rakoviny\\P46B_II\\721x436-P46BII-Avantes_preprocessed.npy\n",
      "..\\data\\Rakoviny\\P49B_II\\363x202-P49B_II_Avantes_preprocessed.npy\n",
      "..\\data\\Rakoviny\\P51B\\662x392-P51B-Avantes_preprocessed.npy\n",
      "..\\data\\Rakoviny\\P52_I\\468x521-P52I-Avantes_preprocessed.npy\n",
      "..\\data\\Rakoviny\\P52_II\\458x201-P52_II_Avantes_preprocessed.npy\n",
      "..\\data\\Rakoviny\\P53B\\767x380-P53B_Avantes_nahovno_preprocessed.npy\n",
      "..\\data\\Rakoviny\\P55B\\386x231-P55B_Avantes_preprocessed.npy\n",
      "..\\data\\Rakoviny\\P56B\\2022_03_22_P56B_307x532_preprocessed.npy\n",
      "..\\data\\Rakoviny\\P57B\\548x541-P57B-Avantes_preprocessed.npy\n",
      "..\\data\\Rakoviny\\P58B\\485x519-P58B-Avantes_preprocessed.npy\n",
      "..\\data\\Rakoviny\\P59_I\\2022_03_22_P59rimkajedna_235x471_preprocessed.npy\n"
     ]
    },
    {
     "ename": "ValueError",
     "evalue": "cannot reshape array of size 0 into shape (110685,4096)",
     "output_type": "error",
     "traceback": [
      "\u001b[1;31m---------------------------------------------------------------------------\u001b[0m",
      "\u001b[1;31mValueError\u001b[0m                                Traceback (most recent call last)",
      "Cell \u001b[1;32mIn[12], line 3\u001b[0m\n\u001b[0;32m      1\u001b[0m \u001b[39mfor\u001b[39;00m file_path \u001b[39min\u001b[39;00m Path(\u001b[39m'\u001b[39m\u001b[39m../data\u001b[39m\u001b[39m'\u001b[39m)\u001b[39m.\u001b[39mrglob(\u001b[39m'\u001b[39m\u001b[39m*preprocessed.npy\u001b[39m\u001b[39m'\u001b[39m):\n\u001b[0;32m      2\u001b[0m     \u001b[39mprint\u001b[39m(file_path)\n\u001b[1;32m----> 3\u001b[0m     data \u001b[39m=\u001b[39m np\u001b[39m.\u001b[39;49mload(file_path)\n\u001b[0;32m      4\u001b[0m     np\u001b[39m.\u001b[39msave(file_path, data\u001b[39m.\u001b[39mastype(np\u001b[39m.\u001b[39mfloat16))\n",
      "File \u001b[1;32md:\\Projects\\segmentation\\pyenv_segment\\lib\\site-packages\\numpy\\lib\\npyio.py:432\u001b[0m, in \u001b[0;36mload\u001b[1;34m(file, mmap_mode, allow_pickle, fix_imports, encoding, max_header_size)\u001b[0m\n\u001b[0;32m    429\u001b[0m         \u001b[39mreturn\u001b[39;00m \u001b[39mformat\u001b[39m\u001b[39m.\u001b[39mopen_memmap(file, mode\u001b[39m=\u001b[39mmmap_mode,\n\u001b[0;32m    430\u001b[0m                                   max_header_size\u001b[39m=\u001b[39mmax_header_size)\n\u001b[0;32m    431\u001b[0m     \u001b[39melse\u001b[39;00m:\n\u001b[1;32m--> 432\u001b[0m         \u001b[39mreturn\u001b[39;00m \u001b[39mformat\u001b[39;49m\u001b[39m.\u001b[39;49mread_array(fid, allow_pickle\u001b[39m=\u001b[39;49mallow_pickle,\n\u001b[0;32m    433\u001b[0m                                  pickle_kwargs\u001b[39m=\u001b[39;49mpickle_kwargs,\n\u001b[0;32m    434\u001b[0m                                  max_header_size\u001b[39m=\u001b[39;49mmax_header_size)\n\u001b[0;32m    435\u001b[0m \u001b[39melse\u001b[39;00m:\n\u001b[0;32m    436\u001b[0m     \u001b[39m# Try a pickle\u001b[39;00m\n\u001b[0;32m    437\u001b[0m     \u001b[39mif\u001b[39;00m \u001b[39mnot\u001b[39;00m allow_pickle:\n",
      "File \u001b[1;32md:\\Projects\\segmentation\\pyenv_segment\\lib\\site-packages\\numpy\\lib\\format.py:820\u001b[0m, in \u001b[0;36mread_array\u001b[1;34m(fp, allow_pickle, pickle_kwargs, max_header_size)\u001b[0m\n\u001b[0;32m    818\u001b[0m         array \u001b[39m=\u001b[39m array\u001b[39m.\u001b[39mtranspose()\n\u001b[0;32m    819\u001b[0m     \u001b[39melse\u001b[39;00m:\n\u001b[1;32m--> 820\u001b[0m         array\u001b[39m.\u001b[39mshape \u001b[39m=\u001b[39m shape\n\u001b[0;32m    822\u001b[0m \u001b[39mreturn\u001b[39;00m array\n",
      "\u001b[1;31mValueError\u001b[0m: cannot reshape array of size 0 into shape (110685,4096)"
     ]
    }
   ],
   "source": [
    "for file_path in Path('../data').rglob('*preprocessed.npy'):\n",
    "    print(file_path)\n",
    "    data = np.load(file_path)\n",
    "    np.save(file_path, data.astype(np.float16))"
   ]
  },
  {
   "cell_type": "code",
   "execution_count": null,
   "metadata": {},
   "outputs": [],
   "source": []
  }
 ],
 "metadata": {
  "kernelspec": {
   "display_name": "segmentation",
   "language": "python",
   "name": "segmentation"
  },
  "language_info": {
   "codemirror_mode": {
    "name": "ipython",
    "version": 3
   },
   "file_extension": ".py",
   "mimetype": "text/x-python",
   "name": "python",
   "nbconvert_exporter": "python",
   "pygments_lexer": "ipython3",
   "version": "3.10.9"
  },
  "orig_nbformat": 4
 },
 "nbformat": 4,
 "nbformat_minor": 2
}
