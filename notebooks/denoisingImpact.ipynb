{
 "cells": [
  {
   "attachments": {},
   "cell_type": "markdown",
   "metadata": {},
   "source": [
    "# Init"
   ]
  },
  {
   "cell_type": "code",
   "execution_count": null,
   "metadata": {},
   "outputs": [],
   "source": [
    "import numpy as np\n",
    "import pandas as pd\n",
    "import logging\n",
    "import matplotlib.pyplot as plt\n",
    "import plotly.graph_objects as go\n",
    "import plotly.io as pio\n",
    "from pathlib import Path\n",
    "import json\n",
    "%cd ..\n",
    "%load_ext autoreload"
   ]
  },
  {
   "cell_type": "code",
   "execution_count": null,
   "metadata": {},
   "outputs": [],
   "source": [
    "%autoreload 2\n",
    "from src.MapData import MapData, min_max_dist, triangle_corr, get_triangular_kernel\n",
    "from src.LineFinder import LineFinder\n",
    "\n",
    "from src.plotting_functions import plot_embedding, plot_single_variable_map, _update_layout"
   ]
  },
  {
   "attachments": {},
   "cell_type": "markdown",
   "metadata": {},
   "source": [
    "# Data"
   ]
  },
  {
   "cell_type": "code",
   "execution_count": null,
   "metadata": {},
   "outputs": [],
   "source": [
    "map_data = MapData(\n",
    "    'C:/Users/kepes/OneDrive - Vysoké učení technické v Brně/projects/P42B/2022_03_21_P42B_513x632.libsdata',\n",
    "    overwrite=False\n",
    ")\n",
    "map_data.get_metadata()\n",
    "map_data.load_wavelenths()\n",
    "map_data.load_all_data('preprocessed')\n",
    "map_data.get_map_dimensions()\n",
    "map_data.trim_spectra(64)\n",
    "map_data.estimate_systemic_noise()\n",
    "map_data.get_baseline(\n",
    "    min_window_size=50,\n",
    "    smooth_window_size=100\n",
    ")\n",
    "map_data.baseline_correct()\n",
    "map_data.upsample_spectra()\n",
    "if map_data.systemic_noise_spectrum is not None:\n",
    "    map_data.denoise_spectra(\n",
    "        file_name_supplement='preprocessed',\n",
    "        threshold=np.std(map_data.systemic_noise_spectrum)\n",
    "    )\n",
    "maxima_spectrum = map_data.spectra.max(axis=0)"
   ]
  },
  {
   "cell_type": "code",
   "execution_count": null,
   "metadata": {},
   "outputs": [],
   "source": [
    "line_finder = LineFinder(\n",
    "    maxima_spectrum,\n",
    "    map_data.wvl,\n",
    "    name='maxima'\n",
    ")\n",
    "line_finder.find_lines()\n",
    "line_finder.load_nist_tables(    \n",
    "    Path('C:/Users/kepes/OneDrive - Vysoké učení technické v Brně/projects/marsData/inventory/nistTables')\n",
    ")\n",
    "line_finder.find_peaks_in_reference(\n",
    "    maxima_spectrum, \n",
    "    scale=False,\n",
    "    show_cond=False\n",
    ")\n",
    "line_finder.plot.show()"
   ]
  },
  {
   "attachments": {},
   "cell_type": "markdown",
   "metadata": {},
   "source": [
    "## Line intensities"
   ]
  },
  {
   "attachments": {},
   "cell_type": "markdown",
   "metadata": {},
   "source": [
    "### Denoised"
   ]
  },
  {
   "cell_type": "code",
   "execution_count": null,
   "metadata": {},
   "outputs": [],
   "source": [
    "map_data.set_emission_line_parameters(\n",
    "    line_finder.peaks[1].get('left_bases'),\n",
    "    line_finder.peaks[1].get('right_bases'),\n",
    "    line_centers=line_finder.peaks[0]\n",
    ")\n",
    "map_data.set_emisssion_line_functions(    \n",
    "    intensity_funcs=[np.max,np.sum,min_max_dist,triangle_corr]\n",
    ")\n",
    "map_data.get_emission_line_intensities()"
   ]
  },
  {
   "cell_type": "code",
   "execution_count": null,
   "metadata": {},
   "outputs": [],
   "source": [
    "line_centers = list(map_data.line_intensities['amax'].keys())\n",
    "for ndx,line_center in enumerate(line_centers):\n",
    "    print(f'{ndx} :: {line_center}')"
   ]
  },
  {
   "cell_type": "code",
   "execution_count": null,
   "metadata": {},
   "outputs": [],
   "source": [
    "for line_ndx in [0,5,13]:\n",
    "    line_center = line_centers[line_ndx]\n",
    "    for func in map_data.line_intensities:\n",
    "        plot_single_variable_map(\n",
    "            map_data.vector_to_array(map_data.line_intensities[func][line_center]),\n",
    "            figure_title=f'{func}({line_center} nm)',\n",
    "            fig_size_scaling=2,\n",
    "            file_id=f\"denoisingImpactDenoised_{func}_{line_center.replace('.','_')}nm\"\n",
    "        )\n",
    "        plt.close()"
   ]
  },
  {
   "attachments": {},
   "cell_type": "markdown",
   "metadata": {},
   "source": [
    "### Raw"
   ]
  },
  {
   "cell_type": "code",
   "execution_count": null,
   "metadata": {},
   "outputs": [],
   "source": [
    "map_data = MapData(\n",
    "    'C:/Users/kepes/OneDrive - Vysoké učení technické v Brně/projects/P42B/2022_03_21_P42B_513x632.libsdata',\n",
    "    overwrite=False\n",
    ")\n",
    "map_data.get_metadata()\n",
    "map_data.load_wavelenths()\n",
    "map_data.load_all_data('trial')\n",
    "map_data.get_map_dimensions()\n",
    "map_data.trim_spectra(64)\n",
    "map_data.get_baseline(\n",
    "    min_window_size=50,\n",
    "    smooth_window_size=100\n",
    ")\n",
    "map_data.baseline_correct()\n",
    "map_data.upsample_spectra()\n",
    "\n",
    "map_data.set_emission_line_parameters(\n",
    "    line_finder.peaks[1].get('left_bases'),\n",
    "    line_finder.peaks[1].get('right_bases'),\n",
    "    line_centers=line_finder.peaks[0]\n",
    ")\n",
    "map_data.set_emisssion_line_functions(    \n",
    "    intensity_funcs=[np.max,np.sum,min_max_dist,triangle_corr]\n",
    ")\n",
    "map_data.get_emission_line_intensities(overwrite=True)"
   ]
  },
  {
   "cell_type": "code",
   "execution_count": null,
   "metadata": {},
   "outputs": [],
   "source": [
    "map_data.get_emission_line_intensities(overwrite=False)\n",
    "for line_ndx in [0,5,13]:\n",
    "    line_center = line_centers[line_ndx]\n",
    "    for func in map_data.line_intensities:\n",
    "        plot_single_variable_map(\n",
    "            map_data.vector_to_array(map_data.line_intensities[func][line_center]),\n",
    "            figure_title=f'{func}({line_center} nm)',\n",
    "            fig_size_scaling=2,\n",
    "            file_id=f\"denoisingImpactBaselined_{func}_{line_center.replace('.','_')}nm\"\n",
    "        )\n",
    "        plt.close()"
   ]
  }
 ],
 "metadata": {
  "kernelspec": {
   "display_name": "segment",
   "language": "python",
   "name": "segment"
  },
  "language_info": {
   "codemirror_mode": {
    "name": "ipython",
    "version": 3
   },
   "file_extension": ".py",
   "mimetype": "text/x-python",
   "name": "python",
   "nbconvert_exporter": "python",
   "pygments_lexer": "ipython3",
   "version": "3.10.9"
  }
 },
 "nbformat": 4,
 "nbformat_minor": 2
}
