{
 "cells": [
  {
   "attachments": {},
   "cell_type": "markdown",
   "metadata": {},
   "source": [
    "# Init"
   ]
  },
  {
   "cell_type": "code",
   "execution_count": null,
   "metadata": {},
   "outputs": [],
   "source": [
    "import numpy as np\n",
    "import pandas as pd\n",
    "import logging\n",
    "import matplotlib.pyplot as plt\n",
    "import plotly.graph_objects as go\n",
    "import plotly.io as pio\n",
    "from pathlib import Path\n",
    "import json\n",
    "%cd ..\n",
    "%load_ext autoreload"
   ]
  },
  {
   "cell_type": "code",
   "execution_count": null,
   "metadata": {},
   "outputs": [],
   "source": [
    "%autoreload 2\n",
    "from src.MapData import MapData, min_max_dist, triangle_corr, get_triangular_kernel\n",
    "from src.LineFinder import LineFinder\n",
    "\n",
    "from src.plotting_functions import plot_embedding, plot_single_variable_map, _update_layout"
   ]
  },
  {
   "attachments": {},
   "cell_type": "markdown",
   "metadata": {},
   "source": [
    "# Data"
   ]
  },
  {
   "cell_type": "code",
   "execution_count": null,
   "metadata": {},
   "outputs": [],
   "source": [
    "map_data = MapData(\n",
    "    './data/2022_03_22_P56B_307x532.libsdata',\n",
    "    overwrite=False\n",
    ")\n",
    "map_data.get_metadata()\n",
    "map_data.load_wavelenths()\n",
    "map_data.load_all_data('preprocessed')\n",
    "# map_data.load_all_data('trial')\n",
    "# map_data.spectra = map_data.spectra[:200,:]\n",
    "map_data.get_map_dimensions()\n",
    "\n",
    "map_data.trim_spectra(64)\n",
    "map_data.estimate_systemic_noise()\n",
    "\n",
    "map_data.get_baseline(\n",
    "    min_window_size=50,\n",
    "    smooth_window_size=100\n",
    ")\n",
    "map_data.baseline_correct()\n",
    "\n",
    "map_data.upsample_spectra()\n",
    "if map_data.systemic_noise_spectrum is not None:\n",
    "    map_data.denoise_spectra(\n",
    "        file_name_supplement='preprocessed',\n",
    "        threshold=np.std(map_data.systemic_noise_spectrum)\n",
    "    )\n",
    "\n",
    "maxima_spectrum = map_data.spectra.max(axis=0)"
   ]
  },
  {
   "attachments": {},
   "cell_type": "markdown",
   "metadata": {},
   "source": [
    "## Line finding"
   ]
  },
  {
   "cell_type": "code",
   "execution_count": null,
   "metadata": {},
   "outputs": [],
   "source": [
    "# for bin in bins:\n",
    "#     plt.scatter(\n",
    "#         x=bin,\n",
    "#         y=np.std(maxima_spectrum[maxima_spectrum <= bin + bin_half_width])\n",
    "#     )"
   ]
  },
  {
   "cell_type": "code",
   "execution_count": null,
   "metadata": {},
   "outputs": [],
   "source": [
    "line_finder = LineFinder(\n",
    "    maxima_spectrum,\n",
    "    map_data.wvl,\n",
    "    name='maxima'\n",
    ")\n",
    "line_finder.find_lines(\n",
    "    # height=bins[2],\n",
    "    # threshold=None,\n",
    "    # distance=None,\n",
    "    # prominence=bins[1],\n",
    "    # width=7,\n",
    "    # wlen=35,\n",
    "    # rel_height=1,\n",
    ")\n",
    "line_finder.load_nist_tables(\n",
    "    # Path('D:/OneDrive - Vysoké učení technické v Brně/projects/marsData/inventory/nistTables')\n",
    "    Path('C:/Users/kepes/OneDrive - Vysoké učení technické v Brně/projects/marsData/inventory/nistTables')\n",
    ")\n",
    "line_finder.find_peaks_in_reference(\n",
    "    maxima_spectrum, \n",
    "    scale=False,\n",
    "    show_cond=False\n",
    ")\n",
    "\n",
    "line_finder.plot.show()"
   ]
  },
  {
   "attachments": {},
   "cell_type": "markdown",
   "metadata": {},
   "source": [
    "## Line intensities"
   ]
  },
  {
   "cell_type": "code",
   "execution_count": null,
   "metadata": {},
   "outputs": [],
   "source": [
    "map_data.set_emission_line_parameters(\n",
    "    line_finder.peaks[1].get('left_bases'),\n",
    "    line_finder.peaks[1].get('right_bases'),\n",
    "    line_centers=line_finder.peaks[0]\n",
    ")\n",
    "map_data.set_emisssion_line_functions(    \n",
    "    intensity_funcs=[np.max,np.sum,min_max_dist,triangle_corr]\n",
    ")\n",
    "map_data.get_emission_line_intensities()"
   ]
  },
  {
   "attachments": {},
   "cell_type": "markdown",
   "metadata": {},
   "source": [
    "## Line ratios"
   ]
  },
  {
   "cell_type": "code",
   "execution_count": null,
   "metadata": {},
   "outputs": [],
   "source": [
    "line_ratios = dict()\n",
    "for func in map_data.line_intensities:\n",
    "    line_ratios[func] = dict()\n",
    "    for ref_line in map_data.line_intensities[func]:\n",
    "        line_ratios[func][f'div_by_{ref_line}'] = {\n",
    "            f'{line}/{ref_line}':np.divide(\n",
    "                intensities,\n",
    "                map_data.line_intensities.get(func).get(ref_line),\n",
    "            )\n",
    "            for line,intensities\n",
    "            in map_data.line_intensities.get(func).items()\n",
    "            if ref_line != line\n",
    "        }"
   ]
  },
  {
   "cell_type": "code",
   "execution_count": null,
   "metadata": {},
   "outputs": [],
   "source": [
    "for normalization_id in line_ratios:\n",
    "    for line,intensities in line_ratios[normalization_id].items():\n",
    "        file_name = \"P56B/{}/line_max_{}_nm\".format(\n",
    "            normalization_id.replace('.','_'),\n",
    "            line.replace('.','_').replace('/','by')\n",
    "        )\n",
    "        print(file_name)\n",
    "        if not Path('./temp').joinpath(file_name).parent.exists():\n",
    "            Path('./temp').joinpath(file_name).parent.mkdir(parents=True)\n",
    "        plot_single_variable_map(\n",
    "            plot_values=map_data.vector_to_array(intensities),\n",
    "            file_id=file_name,\n",
    "            figure_title=f'{line} nm',\n",
    "            colorbar_title='Intensity',\n",
    "            fig_size_scaling=3.,\n",
    "            cutoff_quantile=.99\n",
    "        )\n",
    "\n",
    "        plt.close()"
   ]
  },
  {
   "attachments": {},
   "cell_type": "markdown",
   "metadata": {},
   "source": [
    "## Saving maps"
   ]
  },
  {
   "cell_type": "code",
   "execution_count": null,
   "metadata": {},
   "outputs": [],
   "source": [
    "for intensity_func in map_data.line_intensities:\n",
    "    for line,intensities in map_data.line_intensities[intensity_func].items():\n",
    "        file_name = f\"P56B/denoised/intensityMaps/{intensity_func}_{line.replace('.','_')}_nm\"\n",
    "        if not Path('./temp').joinpath(file_name).parent.exists():\n",
    "            Path('./temp').joinpath(file_name).parent.mkdir(parents=True)\n",
    "        print(file_name)\n",
    "        plot_single_variable_map(\n",
    "            plot_values=map_data.vector_to_array(intensities),\n",
    "            file_id=file_name,\n",
    "            figure_title=f'{line} nm',\n",
    "            colorbar_title='Intensity',\n",
    "            fig_size_scaling=3.,\n",
    "            cutoff_quantile=.99\n",
    "        )\n",
    "\n",
    "        plt.close()"
   ]
  },
  {
   "attachments": {},
   "cell_type": "markdown",
   "metadata": {},
   "source": [
    "# Embeddings"
   ]
  },
  {
   "cell_type": "code",
   "execution_count": null,
   "metadata": {},
   "outputs": [],
   "source": [
    "from sklearn.decomposition import PCA\n",
    "from umap import UMAP\n",
    "from sklearn.manifold import TSNE"
   ]
  },
  {
   "cell_type": "code",
   "execution_count": null,
   "metadata": {},
   "outputs": [],
   "source": [
    "embeddings = dict()\n",
    "embedders = dict()\n",
    "embedders['pca'] = PCA(n_components=3)\n",
    "# embedders['tsne'] = TSNE(\n",
    "#     n_components=3,\n",
    "#     perplexity=30,\n",
    "#     learning_rate=200,\n",
    "#     metric='cosine'\n",
    "# )\n",
    "# embedders['umap'] = UMAP(\n",
    "#     n_components=3, \n",
    "#     n_neighbors=30, \n",
    "#     min_dist=0.5\n",
    "# )"
   ]
  },
  {
   "cell_type": "code",
   "execution_count": null,
   "metadata": {},
   "outputs": [],
   "source": [
    "for embedding_method in embedders:\n",
    "    try:\n",
    "        # embeddings[embedding_method] = np.load(f'./temp/embeddings_{embedding_method}.npy')\n",
    "        pass\n",
    "    except FileNotFoundError:\n",
    "        print(f'embedding using {embedding_method} not found, creating...')\n",
    "        embeddings[embedding_method] = embedders[embedding_method].fit_transform(\n",
    "            pd.DataFrame(map_data.line_intensities)\n",
    "        )"
   ]
  },
  {
   "cell_type": "code",
   "execution_count": null,
   "metadata": {},
   "outputs": [],
   "source": [
    "pd.DataFrame(\n",
    "    map_data.line_intensities.get('sum')\n",
    ").drop(columns=['266.08'])"
   ]
  },
  {
   "cell_type": "code",
   "execution_count": null,
   "metadata": {},
   "outputs": [],
   "source": [
    "embedding_method = 'pca'\n",
    "\n",
    "embeddings[embedding_method] = embedders[embedding_method].fit_transform(\n",
    "    pd.DataFrame(\n",
    "        map_data.line_intensities.get('sum')\n",
    "    ).drop(columns=['266.08'])\n",
    ")\n",
    "\n",
    "fig = plot_embedding(\n",
    "    embeddings[embedding_method],\n",
    "    # explained_variances=pca_model.explained_variance_ratio_.copy(),\n",
    "    # colors=predicted_labels[clustering_method],\n",
    "    marker_size=2,\n",
    "    return_figure=True\n",
    ")\n",
    "# fig.suptitle(clustering_method)\n",
    "fig.patch.set_alpha(0)\n",
    "fig.tight_layout()\n",
    "# fig.savefig(\n",
    "#     f'./temp/{embedding_method}_embeddings_full_spectra_clustering_using_{clustering_method}_{segment}',\n",
    "#     transparent=True\n",
    "# )\n",
    "\n",
    "# from joblib import load\n",
    "# pca_model = load('../temp/pca_model.joblib')"
   ]
  },
  {
   "cell_type": "code",
   "execution_count": null,
   "metadata": {},
   "outputs": [],
   "source": [
    "plot_data = map_data.vector_to_array(embeddings['pca'][:,1])\n",
    "plot_single_variable_map(\n",
    "    plot_data,\n",
    "    fig_size_scaling=2\n",
    ")"
   ]
  },
  {
   "attachments": {},
   "cell_type": "markdown",
   "metadata": {},
   "source": [
    "# Edge detection"
   ]
  },
  {
   "cell_type": "code",
   "execution_count": null,
   "metadata": {},
   "outputs": [],
   "source": [
    "import cv2"
   ]
  },
  {
   "cell_type": "code",
   "execution_count": null,
   "metadata": {},
   "outputs": [],
   "source": [
    "# map_data._line_intensities_to_arrays()"
   ]
  },
  {
   "cell_type": "code",
   "execution_count": null,
   "metadata": {},
   "outputs": [],
   "source": [
    "# edge_data = map_data.vector_to_array(embeddings['pca'][:,1])\n",
    "# edge_data = map_data.vector_to_array(line_ratios['sum']['div_by_279.63']['393.34/279.63'])\n",
    "edge_data = map_data.vector_to_array(map_data.line_intensities['sum']['393.34'])\n",
    "plot_single_variable_map(\n",
    "    edge_data,\n",
    "    fig_size_scaling=2\n",
    ")\n"
   ]
  },
  {
   "cell_type": "code",
   "execution_count": null,
   "metadata": {},
   "outputs": [],
   "source": [
    "# edge_data = map_data.vector_to_array(embeddings['pca'][:,1])\n",
    "edge_data = map_data.vector_to_array(map_data.line_intensities['sum']['393.34'])\n",
    "edge_data -= edge_data.min()\n",
    "edge_data /= edge_data.max()\n",
    "edge_data *= 255\n",
    "edge_data = edge_data.astype(np.uint8)\n",
    "\n",
    "th, im_th = cv2.threshold(\n",
    "    edge_data, \n",
    "    10,\n",
    "    230,\n",
    "    cv2.THRESH_BINARY\n",
    ")\n",
    "plt.imshow(im_th)"
   ]
  },
  {
   "cell_type": "code",
   "execution_count": null,
   "metadata": {},
   "outputs": [],
   "source": [
    "# Copy the thresholded image.\n",
    "im_floodfill = im_th.copy()\n",
    "\n",
    "im_floodfill = cv2.filter2D(\n",
    "    im_floodfill, \n",
    "    -1, \n",
    "    np.ones(shape=(7,7))/49\n",
    "    # np.ones(shape=(20,20))/400\n",
    ")\n",
    "  \n",
    "# Mask used to flood filling.\n",
    "# Notice the size needs to be 2 pixels than the image.\n",
    "h, w = im_th.shape[:2]\n",
    "mask = np.zeros((h+2, w+2), np.uint8)\n",
    "  \n",
    "# # Floodfill from point (0, 0)\n",
    "cv2.floodFill(im_floodfill, mask, (0,0), 255)\n",
    "plt.imshow(im_floodfill)"
   ]
  },
  {
   "cell_type": "code",
   "execution_count": null,
   "metadata": {},
   "outputs": [],
   "source": [
    "plt.imshow(im_floodfill != 255)"
   ]
  },
  {
   "cell_type": "code",
   "execution_count": null,
   "metadata": {},
   "outputs": [],
   "source": [
    "(im_floodfill != 255).reshape(-1,1)"
   ]
  },
  {
   "cell_type": "code",
   "execution_count": null,
   "metadata": {},
   "outputs": [],
   "source": [
    "kept_spectra_ratio = np.sum(im_floodfill != 255)\\\n",
    "  /(im_floodfill.shape[0] * im_floodfill.shape[1])\n",
    "print(f'{kept_spectra_ratio:.2f}')"
   ]
  },
  {
   "cell_type": "code",
   "execution_count": null,
   "metadata": {},
   "outputs": [],
   "source": [
    "cluster_data = map_data.spectra[(im_floodfill != 255).reshape(-1),:]"
   ]
  },
  {
   "cell_type": "code",
   "execution_count": null,
   "metadata": {},
   "outputs": [],
   "source": [
    "reduced_embeddings = embedders['pca'].fit_transform(\n",
    "    cluster_data\n",
    ")"
   ]
  },
  {
   "cell_type": "code",
   "execution_count": null,
   "metadata": {},
   "outputs": [],
   "source": [
    "fig = plot_embedding(\n",
    "    reduced_embeddings,\n",
    "    marker_size=2,\n",
    "    return_figure=True\n",
    ")\n",
    "fig.patch.set_alpha(0)\n",
    "fig.tight_layout()"
   ]
  },
  {
   "cell_type": "code",
   "execution_count": null,
   "metadata": {},
   "outputs": [],
   "source": [
    "plot_data = np.zeros(map_data.spectra.shape[0])\n",
    "plot_data[(im_floodfill != 255).reshape(-1)] = reduced_embeddings[:,0]"
   ]
  },
  {
   "cell_type": "code",
   "execution_count": null,
   "metadata": {},
   "outputs": [],
   "source": [
    "plot_single_variable_map(\n",
    "    map_data.vector_to_array(plot_data),\n",
    "    fig_size_scaling=3\n",
    ")"
   ]
  },
  {
   "cell_type": "code",
   "execution_count": null,
   "metadata": {},
   "outputs": [],
   "source": [
    "embedding_method = 'umap'\n",
    "image_data = np.concatenate([\n",
    "    map_data.vector_to_array(\n",
    "        embeddings[embedding_method][:,0]\n",
    "    )[...,np.newaxis],\n",
    "    map_data.vector_to_array(\n",
    "        embeddings[embedding_method][:,1]\n",
    "    )[...,np.newaxis],\n",
    "    map_data.vector_to_array(\n",
    "        embeddings[embedding_method][:,2]\n",
    "    )[...,np.newaxis]],\n",
    "    axis=2\n",
    ")\n",
    "\n",
    "image_data -= image_data.min()\n",
    "image_data /= image_data.max()\n",
    "\n",
    "plt.figure(figsize=(9,9))\n",
    "plt.imshow(\n",
    "    image_data\n",
    ")"
   ]
  },
  {
   "cell_type": "code",
   "execution_count": null,
   "metadata": {},
   "outputs": [],
   "source": [
    "fig = go.Figure()\n",
    "fig.add_trace(\n",
    "    go.Scatter(\n",
    "        y=maxima_spectrum\n",
    "    )\n",
    ")"
   ]
  },
  {
   "attachments": {},
   "cell_type": "markdown",
   "metadata": {},
   "source": [
    "# Autocorrelation"
   ]
  },
  {
   "cell_type": "code",
   "execution_count": null,
   "metadata": {},
   "outputs": [],
   "source": [
    "import statsmodels.api as sm\n",
    "\n",
    "x = maxima_spectrum[3500:3600].copy()\n",
    "fig = go.Figure()\n",
    "fig.add_trace(\n",
    "    go.Scatter(\n",
    "        y=x\n",
    "    )\n",
    ")\n",
    "\n",
    "# Plot the correlogram\n",
    "sm.graphics.tsa.plot_acf(x, lags=99)\n",
    "plt.show()"
   ]
  },
  {
   "cell_type": "code",
   "execution_count": null,
   "metadata": {},
   "outputs": [],
   "source": [
    "pd.plotting.autocorrelation_plot(x)"
   ]
  },
  {
   "cell_type": "code",
   "execution_count": null,
   "metadata": {},
   "outputs": [],
   "source": [
    "def get_autocorrelation(x):\n",
    "    x = x.copy()\n",
    "    x -= np.mean(x)\n",
    "    autocorrelation = np.correlate(x,x,mode='full')\n",
    "    autocorrelation /= np.var(x)\n",
    "    return autocorrelation[len(autocorrelation)//2:]"
   ]
  },
  {
   "cell_type": "code",
   "execution_count": null,
   "metadata": {},
   "outputs": [],
   "source": [
    "data = np.apply_along_axis(\n",
    "    func1d=get_autocorrelation,\n",
    "    axis=1,\n",
    "    arr=map_data.spectra[:,3500:3600]\n",
    ")"
   ]
  },
  {
   "cell_type": "code",
   "execution_count": null,
   "metadata": {},
   "outputs": [],
   "source": [
    "base_size = 48\n",
    "\n",
    "fig = go.Figure()\n",
    "fig.add_trace(\n",
    "    go.Scatter(\n",
    "        x=map_data.wvl[3500:3600],\n",
    "        y=map_data.spectra[51521,3500:3600]\n",
    "    )\n",
    ")\n",
    "fig = _update_layout(fig)\n",
    "\n",
    "fig.update_layout(\n",
    "    title_font_size=base_size,\n",
    "    xaxis_title_font_size=base_size-12,\n",
    "    yaxis_title_font_size=base_size-12,\n",
    "    xaxis_tickfont_size=base_size-18,\n",
    "    yaxis_tickfont_size=base_size-18,\n",
    "    plot_bgcolor='rgba(0, 0, 0, 0)',\n",
    "    paper_bgcolor='rgba(0, 0, 0, 0)'\n",
    ")\n",
    "\n",
    "pio.write_image(\n",
    "    fig, \n",
    "    './output/molecularBand.png',\n",
    "    height=1200,\n",
    "    width=1800\n",
    ")"
   ]
  },
  {
   "cell_type": "code",
   "execution_count": null,
   "metadata": {},
   "outputs": [],
   "source": [
    "def get_extremum_locations(x):\n",
    "    maxima = np.where(np.diff(np.sign(np.diff(x))) == -2)[0] + 1\n",
    "    minima = np.where(np.diff(np.sign(np.diff(x))) == 2)[0] + 1\n",
    "    return (maxima, minima)"
   ]
  },
  {
   "cell_type": "code",
   "execution_count": null,
   "metadata": {},
   "outputs": [],
   "source": [
    "fig = go.Figure()\n",
    "fig.add_trace(\n",
    "    go.Scatter(\n",
    "        y=get_autocorrelation(map_data.spectra[0,3500:3600])\n",
    "        # y=data[0]\n",
    "    )\n",
    ")\n",
    "_update_layout(fig,x='Wavelength shift',y='Correlation coefficient')\n",
    "fig.update_layout(\n",
    "    title_font_size=base_size,\n",
    "    xaxis_title_font_size=base_size-12,\n",
    "    yaxis_title_font_size=base_size-12,\n",
    "    xaxis_tickfont_size=base_size-18,\n",
    "    yaxis_tickfont_size=base_size-18,\n",
    "    plot_bgcolor='rgba(0, 0, 0, 0)',\n",
    "    paper_bgcolor='rgba(0, 0, 0, 0)'\n",
    ")\n",
    "\n",
    "pio.write_image(\n",
    "    fig, \n",
    "    './output/autocorrelationFunction.png',\n",
    "    height=1200,\n",
    "    width=1800\n",
    ")"
   ]
  },
  {
   "cell_type": "code",
   "execution_count": null,
   "metadata": {},
   "outputs": [],
   "source": [
    "extremum_locations = [\n",
    "    get_extremum_locations(x)\n",
    "    for x\n",
    "    in data\n",
    "]"
   ]
  },
  {
   "cell_type": "code",
   "execution_count": null,
   "metadata": {},
   "outputs": [],
   "source": [
    "plot_data = np.zeros(len(extremum_locations))\n",
    "for ndx in range(len(plot_data)):\n",
    "    try:\n",
    "        plot_data[ndx] = extremum_locations[ndx][0][1] - extremum_locations[ndx][1][1]\n",
    "    except IndexError:\n",
    "        plot_data[ndx] = 0\n",
    "\n",
    "plot_single_variable_map(\n",
    "    map_data.vector_to_array(plot_data),\n",
    "    fig_size_scaling=2,\n",
    "    file_id='autocorrelationDistances'\n",
    ")"
   ]
  },
  {
   "cell_type": "code",
   "execution_count": null,
   "metadata": {},
   "outputs": [],
   "source": [
    "plot_single_variable_map(\n",
    "    map_data.vector_to_array(np.abs(data).sum(axis=1)),\n",
    "    fig_size_scaling=2,\n",
    "    file_id='autocorrelationArea'\n",
    ")"
   ]
  },
  {
   "cell_type": "code",
   "execution_count": null,
   "metadata": {},
   "outputs": [],
   "source": [
    "print(np.where(np.diff(np.sign(np.diff(autocorrelation))) == -2)[0] + 1)\n",
    "print(np.where(np.diff(np.sign(np.diff(autocorrelation))) == 2)[0] + 1)"
   ]
  },
  {
   "cell_type": "code",
   "execution_count": null,
   "metadata": {},
   "outputs": [],
   "source": [
    "np.diff(np.where(np.diff(np.sign(np.diff(autocorrelation))) == 2)[0])"
   ]
  },
  {
   "cell_type": "code",
   "execution_count": null,
   "metadata": {},
   "outputs": [],
   "source": [
    "autocorrelation[np.where(np.diff(np.sign(np.diff(autocorrelation))) == -2)[0] + 1]\n",
    "autocorrelation[np.where(np.diff(np.sign(np.diff(autocorrelation))) == 2)[0] + 1]"
   ]
  }
 ],
 "metadata": {
  "kernelspec": {
   "display_name": "segment",
   "language": "python",
   "name": "segment"
  },
  "language_info": {
   "codemirror_mode": {
    "name": "ipython",
    "version": 3
   },
   "file_extension": ".py",
   "mimetype": "text/x-python",
   "name": "python",
   "nbconvert_exporter": "python",
   "pygments_lexer": "ipython3",
   "version": "3.10.9"
  }
 },
 "nbformat": 4,
 "nbformat_minor": 2
}
