{
 "cells": [
  {
   "cell_type": "markdown",
   "metadata": {},
   "source": [
    "# Init"
   ]
  },
  {
   "cell_type": "code",
   "execution_count": null,
   "metadata": {},
   "outputs": [],
   "source": [
    "import numpy as np\n",
    "\n",
    "import hdbscan\n",
    "from sklearn.mixture import GaussianMixture\n",
    "from sklearn.cluster import KMeans\n",
    "\n",
    "import logging\n",
    "\n",
    "import matplotlib.pyplot as plt\n",
    "\n",
    "from sklearn.metrics.pairwise import cosine_distances\n",
    "from sklearn.decomposition import PCA\n",
    "from sklearn.manifold import TSNE\n",
    "import umap"
   ]
  },
  {
   "cell_type": "code",
   "execution_count": null,
   "metadata": {},
   "outputs": [],
   "source": [
    "# logging.basicConfig(level=logging.DEBUG)\n",
    "\n",
    "# db_logger = logging.getLogger(name='debug')\n",
    "# db_logger.setLevel(logging.WARNING)"
   ]
  },
  {
   "cell_type": "code",
   "execution_count": null,
   "metadata": {},
   "outputs": [],
   "source": [
    "%cd ..\n",
    "%load_ext autoreload"
   ]
  },
  {
   "cell_type": "code",
   "execution_count": null,
   "metadata": {},
   "outputs": [],
   "source": [
    "%autoreload 2\n",
    "from src.MapData import MapData\n",
    "from src.plotting_functions import plot_embedding, plot_single_variable_map"
   ]
  },
  {
   "cell_type": "code",
   "execution_count": null,
   "metadata": {},
   "outputs": [],
   "source": [
    "map_data = MapData()\n",
    "map_data.get_metadata()\n",
    "map_data.load_wavelenths()"
   ]
  },
  {
   "cell_type": "code",
   "execution_count": null,
   "metadata": {},
   "outputs": [],
   "source": [
    "fig = map_data.plot_random_spectrum(return_fig=True)\n",
    "fig.patch.set_alpha(0)\n",
    "# plt.axis('off')\n",
    "fig.savefig('./temp/random_spectrum.png',transparent=True)"
   ]
  },
  {
   "cell_type": "code",
   "execution_count": null,
   "metadata": {},
   "outputs": [],
   "source": [
    "map_data.load_all_data()\n",
    "map_data.get_map_dimensions()"
   ]
  },
  {
   "cell_type": "markdown",
   "metadata": {},
   "source": [
    "## Segment selection"
   ]
  },
  {
   "cell_type": "code",
   "execution_count": null,
   "metadata": {},
   "outputs": [],
   "source": [
    "# segment = 'full'\n",
    "segment = '0_100x0_100'\n",
    "# segment = '250_350x150_250'\n",
    "\n",
    "indices = np.arange(map_data.metadata.get('spectra'))\n",
    "indices = indices.reshape(map_data.map_dimensions[::-1])\n",
    "indices[::2,:] = indices[::2,::-1]"
   ]
  },
  {
   "cell_type": "code",
   "execution_count": null,
   "metadata": {},
   "outputs": [],
   "source": [
    "if segment != 'full':\n",
    "\n",
    "    segment_coordinates = list(map(lambda x: [int(y) for y in x.split('_')],segment.split('x')))\n",
    "\n",
    "    map_data.spectra = map_data.spectra[\n",
    "        np.squeeze(indices[\n",
    "            segment_coordinates[0][0]:segment_coordinates[0][1],\n",
    "            segment_coordinates[1][0]:segment_coordinates[1][1]\n",
    "        ].reshape(-1,1)),:\n",
    "    ]\n",
    "    map_data.map_dimensions = [\n",
    "        segment_coordinates[0][1] - segment_coordinates[0][0],\n",
    "        segment_coordinates[1][1] - segment_coordinates[1][0]\n",
    "    ]"
   ]
  },
  {
   "attachments": {},
   "cell_type": "markdown",
   "metadata": {},
   "source": [
    "# Intensity maps"
   ]
  },
  {
   "cell_type": "markdown",
   "metadata": {},
   "source": [
    "## Total emissivity"
   ]
  },
  {
   "cell_type": "code",
   "execution_count": null,
   "metadata": {},
   "outputs": [],
   "source": [
    "full_emissivities = map_data.spectra.sum(axis=1)\n",
    "\n",
    "full_emissivities = full_emissivities.reshape(map_data.map_dimensions[::-1])\n",
    "if segment == 'full':\n",
    "    full_emissivities[::2,:] = full_emissivities[::2,::-1]"
   ]
  },
  {
   "cell_type": "code",
   "execution_count": null,
   "metadata": {},
   "outputs": [],
   "source": [
    "plot_single_variable_map(\n",
    "    full_emissivities,\n",
    "    f'total_emissivity_map_{segment}'\n",
    ")"
   ]
  },
  {
   "cell_type": "markdown",
   "metadata": {},
   "source": [
    "## max intensity"
   ]
  },
  {
   "cell_type": "code",
   "execution_count": null,
   "metadata": {},
   "outputs": [],
   "source": [
    "max_intensity = map_data.spectra.max(axis=1)\n",
    "\n",
    "max_intensity = max_intensity.reshape(map_data.map_dimensions[::-1])\n",
    "if segment == 'full':\n",
    "    max_intensity[::2,:] = max_intensity[::2,::-1]"
   ]
  },
  {
   "cell_type": "code",
   "execution_count": null,
   "metadata": {},
   "outputs": [],
   "source": [
    "plot_single_variable_map(\n",
    "    max_intensity,\n",
    "    f'max_intensity_map_{segment}'\n",
    ")"
   ]
  },
  {
   "cell_type": "markdown",
   "metadata": {},
   "source": [
    "## line intensity"
   ]
  },
  {
   "cell_type": "code",
   "execution_count": null,
   "metadata": {},
   "outputs": [],
   "source": [
    "integral_range_half_width = 1\n",
    "\n",
    "emission_line_center_position = np.argmax(map_data.random_spectrum)\n",
    "emission_line_center = map_data.wvl[emission_line_center_position]\n",
    "emission_line_boundaries = [\n",
    "    emission_line_center - integral_range_half_width,\n",
    "    emission_line_center + integral_range_half_width\n",
    "]\n",
    "\n",
    "emission_line_range = list(filter(\n",
    "    lambda x: emission_line_boundaries[1] > x > emission_line_boundaries[0],\n",
    "    map_data.wvl\n",
    "))\n",
    "\n",
    "integral_left_bound = np.where(map_data.wvl == np.min(emission_line_range))[0][0]\n",
    "integral_right_bound = np.where(map_data.wvl == np.max(emission_line_range))[0][0]\n",
    "\n",
    "line_intensities = map_data.spectra[\n",
    "    :,\n",
    "    integral_left_bound:(integral_right_bound+1)\n",
    "].copy()\n",
    "\n",
    "line_intensity = np.subtract(\n",
    "    line_intensities, \n",
    "    line_intensities.min(axis=1).reshape(-1,1),\n",
    ").sum(axis=1)\n",
    "\n",
    "line_intensity = line_intensity.reshape(map_data.map_dimensions[::-1])\n",
    "if segment == 'full':\n",
    "    line_intensity[::2,:] = line_intensity[::2,::-1]"
   ]
  },
  {
   "cell_type": "code",
   "execution_count": null,
   "metadata": {},
   "outputs": [],
   "source": [
    "plot_single_variable_map(\n",
    "    line_intensity,\n",
    "    f'line_intensity_map_{segment}'\n",
    ")"
   ]
  },
  {
   "cell_type": "markdown",
   "metadata": {},
   "source": [
    "# Full-spectral clustering"
   ]
  },
  {
   "cell_type": "code",
   "execution_count": null,
   "metadata": {},
   "outputs": [],
   "source": [
    "STEP_SIZE = 1\n",
    "\n",
    "predicted_labels = dict()"
   ]
  },
  {
   "cell_type": "markdown",
   "metadata": {},
   "source": [
    "## HDBSCAN"
   ]
  },
  {
   "cell_type": "code",
   "execution_count": null,
   "metadata": {},
   "outputs": [],
   "source": [
    "distance_metric = 'euclidean'\n",
    "# distance_metric = 'precomputed'\n",
    "\n",
    "hdbscan_model = hdbscan.HDBSCAN(\n",
    "    algorithm='best', \n",
    "    # alpha=.01,\n",
    "    approx_min_span_tree=True,\n",
    "    gen_min_span_tree=False, \n",
    "    leaf_size=15,\n",
    "    metric=distance_metric,\n",
    "    # metric='precomputed',\n",
    "    min_cluster_size=10,\n",
    "    min_samples=5,\n",
    "    cluster_selection_epsilon=.2,\n",
    "    p=None,\n",
    "    core_dist_n_jobs=3\n",
    ")\n",
    "\n",
    "if distance_metric != 'precomputed':\n",
    "    predicted_labels['hdbscan'] = hdbscan_model.fit_predict(map_data.spectra)\n",
    "    \n",
    "elif distance_metric == 'precomputed':\n",
    "    dist_matrix = cosine_distances(map_data.spectra[::STEP_SIZE,:])\n",
    "    dist_matrix = dist_matrix.astype(np.float64)\n",
    "\n",
    "    predicted_labels['hdbscan'] = hdbscan_model.fit_predict(dist_matrix)"
   ]
  },
  {
   "cell_type": "code",
   "execution_count": null,
   "metadata": {},
   "outputs": [],
   "source": [
    "# plot_labels = clusterer.labels_.copy()\n",
    "\n",
    "# counts, bins = np.histogram(\n",
    "#     plot_labels,\n",
    "#     bins=np.arange(-1,len(\n",
    "#         np.unique(plot_labels)\n",
    "#     ))\n",
    "# )\n",
    "\n",
    "# main_cluster_id = bins[np.argmax(counts)]\n",
    "\n",
    "# print(\n",
    "#     f'the most populous cluster is {main_cluster_id}'\n",
    "# )\n",
    "\n",
    "# main_cluster_cond = clusterer.labels_ == main_cluster_id"
   ]
  },
  {
   "cell_type": "markdown",
   "metadata": {},
   "source": [
    "## k-means"
   ]
  },
  {
   "cell_type": "code",
   "execution_count": null,
   "metadata": {},
   "outputs": [],
   "source": [
    "kmeans_model = KMeans(3)\n",
    "predicted_labels['kmeans'] = kmeans_model.fit_predict(map_data.spectra)"
   ]
  },
  {
   "cell_type": "markdown",
   "metadata": {},
   "source": [
    "## Gaussian mixtures"
   ]
  },
  {
   "cell_type": "code",
   "execution_count": null,
   "metadata": {},
   "outputs": [],
   "source": [
    "gmm_model = GaussianMixture(\n",
    "    n_components=3,\n",
    "    random_state=42\n",
    ").fit(map_data.spectra)\n",
    "\n",
    "predicted_labels['gmm'] = gmm_model.predict(map_data.spectra)"
   ]
  },
  {
   "cell_type": "markdown",
   "metadata": {},
   "source": [
    "## Label maps"
   ]
  },
  {
   "cell_type": "code",
   "execution_count": null,
   "metadata": {},
   "outputs": [],
   "source": [
    "fig,ax = plt.subplots(\n",
    "    ncols=3,\n",
    "    nrows=1,\n",
    "    figsize=(9,3)\n",
    ")\n",
    "for ndx,method in enumerate(predicted_labels):\n",
    "    ax[ndx].imshow(predicted_labels[method].reshape(map_data.map_dimensions))\n",
    "    ax[ndx].set_title(method)\n",
    "    ax[ndx].patch.set_alpha(0)\n",
    "\n",
    "fig.tight_layout()\n",
    "fig.show()\n",
    "\n",
    "fig.savefig(\n",
    "    f'./temp/cluster_label_maps_{segment}.png',\n",
    "    transparent=True\n",
    ")"
   ]
  },
  {
   "cell_type": "markdown",
   "metadata": {},
   "source": [
    "# Embeddings"
   ]
  },
  {
   "cell_type": "code",
   "execution_count": null,
   "metadata": {},
   "outputs": [],
   "source": [
    "embeddings = {}"
   ]
  },
  {
   "attachments": {},
   "cell_type": "markdown",
   "metadata": {},
   "source": [
    "## PCA"
   ]
  },
  {
   "cell_type": "code",
   "execution_count": null,
   "metadata": {},
   "outputs": [],
   "source": [
    "PC_COUNT = 18\n",
    "\n",
    "pca_model = PCA(n_components=PC_COUNT)\n",
    "embeddings['pca'] = pca_model.fit_transform(map_data.spectra[::STEP_SIZE,:])"
   ]
  },
  {
   "cell_type": "markdown",
   "metadata": {},
   "source": [
    "## t-SNE"
   ]
  },
  {
   "cell_type": "code",
   "execution_count": null,
   "metadata": {},
   "outputs": [],
   "source": [
    "tsne_model = TSNE(\n",
    "    n_components=3,\n",
    "    perplexity=30, \n",
    "    learning_rate=200\n",
    ")\n",
    "embeddings['tsne'] = tsne_model.fit_transform(map_data.spectra[::STEP_SIZE,:])"
   ]
  },
  {
   "cell_type": "markdown",
   "metadata": {},
   "source": [
    "## UMAP"
   ]
  },
  {
   "cell_type": "code",
   "execution_count": null,
   "metadata": {},
   "outputs": [],
   "source": [
    "umap_model = umap.UMAP(n_components=3, n_neighbors=30, min_dist=0.5)\n",
    "embeddings['umap'] = umap_model.fit_transform(map_data.spectra[::STEP_SIZE,:])"
   ]
  },
  {
   "attachments": {},
   "cell_type": "markdown",
   "metadata": {},
   "source": [
    "## Cluster labels in the embedded space"
   ]
  },
  {
   "cell_type": "code",
   "execution_count": null,
   "metadata": {},
   "outputs": [],
   "source": [
    "for embedding_method in embeddings:\n",
    "    for ndx,clustering_method in enumerate(predicted_labels):\n",
    "        fig = plot_embedding(\n",
    "            embeddings[embedding_method],\n",
    "            explained_variances=pca_model.explained_variance_ratio_.copy(),\n",
    "            colors=predicted_labels[clustering_method],\n",
    "            marker_size=8,\n",
    "            return_figure=True\n",
    "        )\n",
    "        fig.suptitle(clustering_method)\n",
    "        fig.patch.set_alpha(0)\n",
    "        fig.tight_layout()\n",
    "        fig.savefig(\n",
    "            f'./temp/{embedding_method}_embeddings_full_spectra_clustering_using_{clustering_method}_{segment}',\n",
    "            transparent=True\n",
    "        )"
   ]
  },
  {
   "attachments": {},
   "cell_type": "markdown",
   "metadata": {},
   "source": [
    "## Embedding coordinates as colors"
   ]
  },
  {
   "cell_type": "code",
   "execution_count": null,
   "metadata": {},
   "outputs": [],
   "source": [
    "fig,ax = plt.subplots(\n",
    "    ncols=3,\n",
    "    nrows=1,\n",
    "    figsize=(9,3)\n",
    ")\n",
    "\n",
    "for ndx,embedding_method in enumerate(embeddings):\n",
    "    colors_from_embeddings = embeddings[embedding_method][:,:3].copy()\n",
    "    colors_from_embeddings -= colors_from_embeddings.min()\n",
    "    colors_from_embeddings /= colors_from_embeddings.max()\n",
    "\n",
    "    ax[ndx].imshow(colors_from_embeddings.reshape(map_data.map_dimensions + [3]))\n",
    "    ax[ndx].set_title(embedding_method)\n",
    "    ax[ndx].set_alpha(0)\n",
    "\n",
    "fig.tight_layout()\n",
    "fig.savefig(\n",
    "    f'./temp/embedding_coords_as_color_{segment}'\n",
    ")"
   ]
  },
  {
   "cell_type": "markdown",
   "metadata": {},
   "source": [
    "# Embeddings' clustering"
   ]
  },
  {
   "cell_type": "code",
   "execution_count": null,
   "metadata": {},
   "outputs": [],
   "source": [
    "predicted_labels_from_embeddings = {}\n",
    "\n",
    "for embedding_method,embedded_data in embeddings.items():\n",
    "    predicted_labels_from_embeddings[embedding_method] = dict()\n",
    "\n",
    "    distance_metric = 'euclidean'\n",
    "# distance_metric = 'precomputed'\n",
    "\n",
    "    hdbscan_model = hdbscan.HDBSCAN(\n",
    "        algorithm='best', \n",
    "        # alpha=.01,\n",
    "        approx_min_span_tree=True,\n",
    "        gen_min_span_tree=False, \n",
    "        leaf_size=15,\n",
    "        metric=distance_metric,\n",
    "        # metric='precomputed',\n",
    "        min_cluster_size=10,\n",
    "        min_samples=5,\n",
    "        cluster_selection_epsilon=.2,\n",
    "        p=None,\n",
    "        core_dist_n_jobs=3\n",
    "    )\n",
    "\n",
    "    if distance_metric != 'precomputed':\n",
    "        predicted_labels_from_embeddings[embedding_method]['hdbscan'] = hdbscan_model.fit_predict(embedded_data)\n",
    "        \n",
    "    elif distance_metric == 'precomputed':\n",
    "        dist_matrix = cosine_distances(embedded_data)\n",
    "        dist_matrix = dist_matrix.astype(np.float64)\n",
    "\n",
    "        predicted_labels_from_embeddings[embedding_method]['hdbscan'] = hdbscan_model.fit_predict(dist_matrix)    \n",
    "    \n",
    "    kmeans_model = KMeans(3)\n",
    "    predicted_labels_from_embeddings[embedding_method]['kmeans'] = kmeans_model.fit_predict(embedded_data)\n",
    "\n",
    "    gmm_model = GaussianMixture(\n",
    "        n_components=3,\n",
    "        random_state=42\n",
    "    )\n",
    "    \n",
    "    predicted_labels_from_embeddings[embedding_method]['gmm'] = gmm_model.fit_predict(embedded_data)"
   ]
  },
  {
   "cell_type": "markdown",
   "metadata": {},
   "source": [
    "## Label maps"
   ]
  },
  {
   "cell_type": "code",
   "execution_count": null,
   "metadata": {},
   "outputs": [],
   "source": [
    "for embedding_method in predicted_labels_from_embeddings:\n",
    "    fig,ax = plt.subplots(\n",
    "        ncols=3,\n",
    "        nrows=1,\n",
    "        figsize=(9,3)\n",
    "    )\n",
    "    \n",
    "    for ndx,clustering_method in enumerate(predicted_labels_from_embeddings[embedding_method]):\n",
    "        ax[ndx].imshow(predicted_labels_from_embeddings[embedding_method][clustering_method].reshape(map_data.map_dimensions))\n",
    "        ax[ndx].set_title(clustering_method)\n",
    "        ax[ndx].patch.set_alpha(0)\n",
    "\n",
    "    fig.tight_layout()\n",
    "    fig.show()\n",
    "\n",
    "    fig.savefig(\n",
    "        f'./temp/cluster_label_maps_{embedding_method}_{segment}.png',\n",
    "        transparent=True\n",
    "    )"
   ]
  },
  {
   "cell_type": "markdown",
   "metadata": {},
   "source": [
    "## Cluster labels in the embedded space"
   ]
  },
  {
   "cell_type": "code",
   "execution_count": null,
   "metadata": {},
   "outputs": [],
   "source": [
    "for embedding_method in embeddings:\n",
    "    for ndx,clustering_method in enumerate(predicted_labels_from_embeddings[embedding_method]):\n",
    "        fig = plot_embedding(\n",
    "            embeddings[embedding_method],\n",
    "            # explained_variances=pca_model.explained_variance_ratio_.copy(),\n",
    "            colors=predicted_labels_from_embeddings[embedding_method][clustering_method],\n",
    "            marker_size=8,\n",
    "            return_figure=True\n",
    "        )\n",
    "        fig.suptitle(clustering_method)\n",
    "        fig.patch.set_alpha(0)\n",
    "        fig.tight_layout()\n",
    "        fig.savefig(\n",
    "            f'./temp/{embedding_method}_embeddings_full_spectra_clustering_using_{clustering_method}_{segment}',\n",
    "            transparent=True\n",
    "        )"
   ]
  },
  {
   "cell_type": "code",
   "execution_count": null,
   "metadata": {},
   "outputs": [],
   "source": [
    "%%writefile ./src/plotting_functions.py\n",
    "\n",
    "import numpy as np\n",
    "import matplotlib.pyplot as plt\n",
    "import logging\n",
    "\n",
    "db_logger = logging.getLogger(name='debug')\n",
    "db_logger.setLevel(logging.DEBUG)\n",
    "\n",
    "def plot_embedding(\n",
    "    embedded_data,\n",
    "    explained_variances=None,\n",
    "    colors=None,\n",
    "    marker_size:float=2.,\n",
    "    return_figure:bool=False\n",
    "):\n",
    "    PERCENTAGE = 100\n",
    "    CM = 1/2.54\n",
    "    SUBPLOT_SIDE_SIZE = 5 * CM\n",
    "\n",
    "    if explained_variances is not None: explained_variances *= PERCENTAGE\n",
    "\n",
    "    embedding_dimension = embedded_data.shape[1]\n",
    "    plot_combination_count = embedding_dimension * (embedding_dimension-1) // 2\n",
    "    db_logger.debug(f'embedding combinations: {plot_combination_count}')\n",
    "    \n",
    "    if plot_combination_count <= 9:\n",
    "        plot_count = plot_combination_count \n",
    "        col_count = np.min([3,plot_count])\n",
    "        row_count = np.min([3,plot_count // col_count])\n",
    "        embedding_indices_to_plot = [\n",
    "            x \n",
    "            for x \n",
    "            in np.array(np.meshgrid(\n",
    "                np.arange(embedding_dimension - 1),\n",
    "                np.arange(embedding_dimension - 1) + 1\n",
    "            ))\\\n",
    "              .T\\\n",
    "              .reshape(-1,2) \n",
    "            if len(np.unique(x)) > 1\n",
    "        ]\n",
    "    else:\n",
    "        plot_count = embedding_dimension\n",
    "        col_count = np.min([3,int(np.sqrt(plot_count))])\n",
    "        row_count = np.min([3,int(np.sqrt(plot_count))])\n",
    "        embedding_indices_to_plot = np.arange(0,col_count*row_count*2).reshape(-1,2)\n",
    "\n",
    "    db_logger.debug(f'plot_count: {plot_count}')\n",
    "    db_logger.debug(f'cols, rows: {col_count}, {row_count}')\n",
    "\n",
    "    if colors is None: colors = [1] * len(embedded_data)\n",
    "\n",
    "    fig, ax = plt.subplots(\n",
    "        ncols=col_count,\n",
    "        nrows=row_count,\n",
    "        figsize=(col_count * SUBPLOT_SIDE_SIZE, row_count * SUBPLOT_SIDE_SIZE)\n",
    "    )\n",
    "\n",
    "    if col_count == 1:\n",
    "        ax.scatter(\n",
    "            x=embedded_data[:,0],\n",
    "            y=embedded_data[:,1],\n",
    "            s=marker_size,\n",
    "            alpha=.25,\n",
    "            c=colors,\n",
    "            linewidth=0\n",
    "        )\n",
    "\n",
    "        x_lab = f'PC1 ({explained_variances[0]:.2f} %)' if explained_variances is not None else f'latent dim. 1'\n",
    "        y_lab = f'PC2 ({explained_variances[1]:.2f} %)' if explained_variances is not None else f'latent dim. 2'\n",
    "\n",
    "        ax.set_xlabel(x_lab)\n",
    "        ax.set_ylabel(y_lab)\n",
    "        ax.set_xticks([])\n",
    "        ax.set_yticks([])\n",
    "\n",
    "    elif col_count >= 2 and row_count == 1:\n",
    "        for ndx,plot_ndx in enumerate(range(col_count)):\n",
    "            ax[plot_ndx].scatter(\n",
    "                x=embedded_data[:,embedding_indices_to_plot[ndx][0]],\n",
    "                y=embedded_data[:,embedding_indices_to_plot[ndx][1]],\n",
    "                s=marker_size,\n",
    "                alpha=.25,\n",
    "                c=colors,\n",
    "                linewidth=0\n",
    "            )\n",
    "\n",
    "            x_lab = 'PC{} ({:.2f} %)'.format(\n",
    "                embedding_indices_to_plot[ndx][0] +1,\n",
    "                explained_variances[embedding_indices_to_plot[ndx][0]]\n",
    "            ) if explained_variances is not None else 'latent dim. {}'.format(\n",
    "                embedding_indices_to_plot[ndx][0] +1\n",
    "            )\n",
    "            y_lab = 'PC{} ({:.2f} %)'.format(\n",
    "                embedding_indices_to_plot[ndx][1] +1,\n",
    "                explained_variances[embedding_indices_to_plot[ndx][1]]\n",
    "            ) if explained_variances is not None else 'latent dim. {}'.format(\n",
    "                embedding_indices_to_plot[ndx][1] +1\n",
    "            )            \n",
    "\n",
    "            ax[plot_ndx].set_xlabel(x_lab)\n",
    "            ax[plot_ndx].set_ylabel(y_lab)\n",
    "            ax[plot_ndx].set_xticks([])\n",
    "            ax[plot_ndx].set_yticks([])\n",
    "    \n",
    "    elif row_count >= 2:\n",
    "        for ndx,plot_ndx in enumerate(range(col_count * row_count)):\n",
    "            ax[plot_ndx // col_count,plot_ndx % row_count].scatter(\n",
    "                x=embedded_data[:,embedding_indices_to_plot[ndx][0]],\n",
    "                y=embedded_data[:,embedding_indices_to_plot[ndx][1]],\n",
    "                s=marker_size,\n",
    "                alpha=.25,\n",
    "                c=colors,\n",
    "                linewidth=0\n",
    "            )\n",
    "\n",
    "            x_lab = 'PC{} ({:.2f} %)'.format(\n",
    "                embedding_indices_to_plot[ndx][0] +1,\n",
    "                explained_variances[embedding_indices_to_plot[ndx][0]]\n",
    "            ) if explained_variances is not None else 'latent dim. {}'.format(\n",
    "                embedding_indices_to_plot[ndx][0] +1\n",
    "            )\n",
    "            y_lab = 'PC{} ({:.2f} %)'.format(\n",
    "                embedding_indices_to_plot[ndx][1] +1,\n",
    "                explained_variances[embedding_indices_to_plot[ndx][1]]\n",
    "            ) if explained_variances is not None else 'latent dim. {}'.format(\n",
    "                embedding_indices_to_plot[ndx][1] +1\n",
    "            )\n",
    "\n",
    "            ax[plot_ndx // col_count,plot_ndx % row_count].set_xlabel(x_lab)\n",
    "            ax[plot_ndx // col_count,plot_ndx % row_count].set_ylabel(y_lab)\n",
    "            ax[plot_ndx // col_count,plot_ndx % row_count].set_xticks([])\n",
    "            ax[plot_ndx // col_count,plot_ndx % row_count].set_yticks([])\n",
    "\n",
    "    fig.tight_layout()\n",
    "    fig.show()\n",
    "\n",
    "    if return_figure: return(fig)\n",
    "    else: return(None)"
   ]
  },
  {
   "cell_type": "markdown",
   "metadata": {},
   "source": [
    "# Plot map"
   ]
  },
  {
   "cell_type": "code",
   "execution_count": null,
   "metadata": {},
   "outputs": [],
   "source": [
    "plot_data = np.zeros_like(\n",
    "    np.arange(map_data.metadata.get('spectra'))\n",
    ").astype(np.float32)\n",
    "# plot_data += 2\n",
    "plot_data[::STEP_SIZE] = plot_labels\n",
    "plot_data = np.ma.array(plot_data, mask=np.isnan(plot_data))"
   ]
  },
  {
   "cell_type": "code",
   "execution_count": null,
   "metadata": {},
   "outputs": [],
   "source": [
    "plot_data = plot_data.reshape(map_data.map_dimensions[::-1])\n",
    "plot_data[::2,:] = plot_data[::2,::-1]\n",
    "\n",
    "plt.imshow(plot_data,interpolation_stage='data', interpolation='none')"
   ]
  }
 ],
 "metadata": {
  "kernelspec": {
   "display_name": "segment",
   "language": "python",
   "name": "segment"
  },
  "language_info": {
   "codemirror_mode": {
    "name": "ipython",
    "version": 3
   },
   "file_extension": ".py",
   "mimetype": "text/x-python",
   "name": "python",
   "nbconvert_exporter": "python",
   "pygments_lexer": "ipython3",
   "version": "3.10.9"
  }
 },
 "nbformat": 4,
 "nbformat_minor": 2
}
