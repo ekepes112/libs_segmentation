{
 "cells": [
  {
   "cell_type": "markdown",
   "metadata": {},
   "source": [
    "# Init"
   ]
  },
  {
   "cell_type": "code",
   "execution_count": null,
   "metadata": {},
   "outputs": [],
   "source": [
    "import numpy as np\n",
    "import matplotlib.pyplot as plt\n",
    "import plotly.graph_objects as go\n",
    "%cd ..\n",
    "%load_ext autoreload\n",
    "\n",
    "import plotly.graph_objects as go"
   ]
  },
  {
   "cell_type": "code",
   "execution_count": null,
   "metadata": {},
   "outputs": [],
   "source": [
    "%autoreload 2\n",
    "from src.MapData import MapData"
   ]
  },
  {
   "cell_type": "code",
   "execution_count": null,
   "metadata": {},
   "outputs": [],
   "source": [
    "map_data = MapData()\n",
    "map_data.get_metadata()\n",
    "map_data.load_wavelenths()\n",
    "map_data.load_all_data()\n",
    "map_data.trim_spectra(64)"
   ]
  },
  {
   "cell_type": "code",
   "execution_count": null,
   "metadata": {},
   "outputs": [],
   "source": [
    "map_data.spectra = map_data.spectra[:10,:].copy()"
   ]
  },
  {
   "cell_type": "code",
   "execution_count": null,
   "metadata": {},
   "outputs": [],
   "source": [
    "window_width = 2 ** 9\n",
    "window_center = 3355\n",
    "\n",
    "fig = go.Figure()\n",
    "\n",
    "fig.add_trace(\n",
    "    go.Scatter(\n",
    "        x=map_data.wvl,\n",
    "        y=map_data.spectra[0,:],\n",
    "        hovertext=np.arange(len(map_data.wvl))\n",
    "    )\n",
    ")\n",
    "fig.add_trace(\n",
    "    go.Scatter(\n",
    "        x=map_data.wvl[[\n",
    "            window_center - (window_width // 2),\n",
    "            window_center + (window_width // 2),\n",
    "            window_center + (window_width // 2),\n",
    "            window_center - (window_width // 2),\n",
    "            window_center - (window_width // 2),\n",
    "        ]],\n",
    "        y=[0,0,8000,8000,0],\n",
    "        mode='lines'\n",
    "    )\n",
    ")"
   ]
  },
  {
   "cell_type": "code",
   "execution_count": null,
   "metadata": {},
   "outputs": [],
   "source": [
    "import numpy as np\n",
    "from numpy.fft import fft, ifft\n",
    "\n",
    "data = map_data.spectra[\n",
    "    0,\n",
    "    (window_center - (window_width // 2)):\\\n",
    "        (window_center + (window_width // 2))\n",
    "]\n",
    "dataFT = fft(data)\n",
    "dataAC = ifft(dataFT * np.conjugate(dataFT)).real"
   ]
  },
  {
   "cell_type": "code",
   "execution_count": null,
   "metadata": {},
   "outputs": [],
   "source": [
    "fig = go.Figure()\n",
    "\n",
    "fig.add_trace(\n",
    "    go.Scatter(\n",
    "        y=dataAC\n",
    "    )\n",
    ")\n",
    "fig.add_trace(\n",
    "    go.Scatter(\n",
    "        y=data\n",
    "    )\n",
    ")"
   ]
  }
 ],
 "metadata": {
  "kernelspec": {
   "display_name": "segment",
   "language": "python",
   "name": "segment"
  },
  "language_info": {
   "codemirror_mode": {
    "name": "ipython",
    "version": 3
   },
   "file_extension": ".py",
   "mimetype": "text/x-python",
   "name": "python",
   "nbconvert_exporter": "python",
   "pygments_lexer": "ipython3",
   "version": "3.10.9"
  }
 },
 "nbformat": 4,
 "nbformat_minor": 2
}
